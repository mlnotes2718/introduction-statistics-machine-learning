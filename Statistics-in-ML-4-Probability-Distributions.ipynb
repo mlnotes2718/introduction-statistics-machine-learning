{
 "cells": [
  {
   "cell_type": "markdown",
   "id": "9579bb45",
   "metadata": {},
   "source": [
    "# Statistics in Machine Learning 4 - Probability Distributions"
   ]
  },
  {
   "cell_type": "markdown",
   "id": "f6440cf4",
   "metadata": {},
   "source": [
    "🔹 Lesson 1: Why We Model Data with Distributions\n",
    "\n",
    "Let’s begin with a question:\n",
    "\n",
    "> Imagine you’re analyzing people’s daily commute times.\n",
    "Some take 5 minutes, some 20, some 60 — the numbers vary.\n",
    "Why might it be useful to model this data with a “distribution”?\n",
    "\n",
    "Think about it — what could a distribution tell you that a single average (like “the mean commute is 30 minutes”) cannot?"
   ]
  },
  {
   "cell_type": "markdown",
   "id": "38a5835b",
   "metadata": {},
   "source": [
    "A distribution indeed tells us how many data points fall into each category or range.\n",
    "In other words, it shows the pattern of frequencies — how the data are spread out.\n",
    "\n",
    "Let’s build on that idea:\n",
    "- If you only know the mean, you know the center.\n",
    "- If you also know the distribution, you know how the data are shaped —\n",
    "e.g. are most commutes short, or are there a few very long ones?\n",
    "\n",
    "Here’s a simple way to say it:\n",
    "> A probability distribution describes how likely each possible outcome is."
   ]
  },
  {
   "cell_type": "markdown",
   "id": "003e7065",
   "metadata": {},
   "source": [
    "If we toss a fair die, what does the distribution look like?\n",
    "(Think: how many outcomes, and what are their probabilities?)\n",
    "\n",
    "But let’s picture the die again:\n",
    "- A fair die has 6 faces, numbered 1 through 6.\n",
    "- Each face is equally likely.\n",
    "\n",
    "So — if all outcomes are equally likely, what’s the probability of any single face showing up?"
   ]
  },
  {
   "cell_type": "markdown",
   "id": "c299f28b",
   "metadata": {},
   "source": []
  }
 ],
 "metadata": {
  "language_info": {
   "name": "python"
  }
 },
 "nbformat": 4,
 "nbformat_minor": 5
}
