{
 "cells": [
  {
   "cell_type": "markdown",
   "id": "9579bb45",
   "metadata": {},
   "source": [
    "# Statistics in Machine Learning 4 - Probability Distributions"
   ]
  },
  {
   "cell_type": "code",
   "execution_count": 51,
   "id": "00071e02",
   "metadata": {},
   "outputs": [],
   "source": [
    "import numpy as np\n",
    "import matplotlib.pyplot as plt\n",
    "from scipy.stats import norm, uniform, binom, poisson\n",
    "from math import exp, factorial"
   ]
  },
  {
   "cell_type": "markdown",
   "id": "f6440cf4",
   "metadata": {},
   "source": [
    "## 🔹 Why We Model Data with Distributions"
   ]
  },
  {
   "cell_type": "markdown",
   "id": "27aacb43",
   "metadata": {},
   "source": [
    "\n",
    "Let’s begin with a question:\n",
    "\n",
    "> Imagine you’re analyzing people’s daily commute times.\n",
    "Some take 5 minutes, some 20, some 60 — the numbers vary.\n",
    "Why might it be useful to model this data with a “distribution”?\n",
    "\n",
    "Think about it — what could a distribution tell you that a single average (like “the mean commute is 30 minutes”) cannot?"
   ]
  },
  {
   "cell_type": "markdown",
   "id": "38a5835b",
   "metadata": {},
   "source": [
    "A distribution indeed tells us how many data points fall into each category or range.\n",
    "In other words, it shows the pattern of frequencies — how the data are spread out.\n",
    "\n",
    "Let’s build on that idea:\n",
    "- If you only know the mean, you know the center.\n",
    "- If you also know the distribution, you know how the data are shaped —\n",
    "e.g. are most commutes short, or are there a few very long ones?\n",
    "\n",
    "Here’s a simple way to say it:\n",
    "> A probability distribution describes how likely each possible outcome is."
   ]
  },
  {
   "cell_type": "markdown",
   "id": "003e7065",
   "metadata": {},
   "source": [
    "If we toss a fair die, what does the distribution look like?\n",
    "(Think: how many outcomes, and what are their probabilities?)\n",
    "\n",
    "But let’s picture the die again:\n",
    "- A fair die has 6 faces, numbered 1 through 6.\n",
    "- Each face is equally likely.\n",
    "\n",
    "So — if all outcomes are equally likely, what’s the probability of any single face showing up?"
   ]
  },
  {
   "cell_type": "markdown",
   "id": "c299f28b",
   "metadata": {},
   "source": [
    "Each face (1, 2, 3, 4, 5, or 6) has a probability of\n",
    "\n",
    "$$\\frac{1}{6} \\approx 0.167$$\n",
    "\t​\n",
    "and if you add them all up → $6 \\times \\frac{1}{6} = 1$\n",
    "\n",
    "\n",
    "That’s a perfect example of a **uniform distribution**, because:\n",
    "- Every outcome is **equally likely**,\n",
    "- The probability is the same for all possible values."
   ]
  },
  {
   "cell_type": "markdown",
   "id": "12e1a69f",
   "metadata": {},
   "source": [
    "Real-world data, like commute times, almost never spread out evenly.\n",
    "Some values (like 20–40 minutes) happen more often, while others (like 90 minutes) are rare.\n",
    "\n",
    "That’s where other types of distributions come in — they help describe how data cluster and taper off."
   ]
  },
  {
   "cell_type": "markdown",
   "id": "4602fc75",
   "metadata": {},
   "source": [
    "Here’s our roadmap from here:\n",
    "1. **Uniform distribution** → all outcomes equally likely (you already got this).\n",
    "2. **Normal distribution** → most values near the mean, fewer at the extremes.\n",
    "3. **Binomial distribution** → counts of “success/failure” events (like flipping coins)."
   ]
  },
  {
   "cell_type": "markdown",
   "id": "84ca29af",
   "metadata": {},
   "source": [
    "## 🔹 The Normal Distribution — Our Benchmark\n",
    "\n",
    "Let’s start with an image in your mind:\n",
    "- Picture a bell-shaped curve.\n",
    "- Most data points cluster around the middle, and the frequency drops off symmetrically toward the sides.\n",
    "- That shape is the Normal distribution (also called Gaussian)."
   ]
  },
  {
   "cell_type": "markdown",
   "id": "b3cc085b",
   "metadata": {},
   "source": [
    "| Concept                    | Meaning in Normal Distribution                    |\n",
    "| -------------------------- | ------------------------------------------------- |\n",
    "| **Mean (μ)**               | The center of the bell — most values cluster here |\n",
    "| **Standard deviation (σ)** | Controls the **spread** or **width** of the bell  |\n",
    "| **Skewness**               | = 0 → perfectly symmetrical                       |\n",
    "| **Kurtosis**               | = 3 (mesokurtic) → tails neither heavy nor light  |\n",
    "\n",
    "So, when data roughly form this bell shape, we can use powerful statistical tools — like z-scores, probabilities, and confidence intervals."
   ]
  },
  {
   "cell_type": "markdown",
   "id": "fb278ab1",
   "metadata": {},
   "source": [
    "Human height is one of the classic examples of a Normal distribution.\n",
    "\n",
    "Most people cluster around the average height, and as you move away — say, much shorter or much taller — the frequency drops sharply and symmetrically.\n",
    "\n",
    "That’s why the bell shape fits so well."
   ]
  },
  {
   "cell_type": "markdown",
   "id": "fc1c83fa",
   "metadata": {},
   "source": [
    "If we plotted the heights of 10,000 adults, we’d see:\n",
    "\n",
    "- The peak near the average (μ),\n",
    "- The width determined by the standard deviation (σ),\n",
    "- Fewer people as we move 2–3σ away (the tails)."
   ]
  },
  {
   "cell_type": "markdown",
   "id": "0bf78e64",
   "metadata": {},
   "source": [
    "Do you remember roughly what percentage of data fall within 1, 2, and 3 standard deviations from the mean in a Normal distribution?\n",
    "\n",
    "It’s called the Empirical Rule (or 68–95–99.7 rule):\n",
    "\n",
    "| Range      | % of data in Normal distribution |\n",
    "| ---------- | -------------------------------- |\n",
    "| **μ ± 1σ** | ≈ **68%**                        |\n",
    "| **μ ± 2σ** | ≈ **95%**                        |\n",
    "| **μ ± 3σ** | ≈ **99.7%**                      |\n",
    "\n",
    "That’s what makes the Normal distribution such a powerful benchmark — it tells us, “How unusual is a value?” just from its distance from the mean."
   ]
  },
  {
   "cell_type": "markdown",
   "id": "2a17be70",
   "metadata": {},
   "source": [
    "Let’s look at how the Normal, Uniform, and Binomial distributions differ — not just in shape, but in what kind of randomness they describe.\n",
    "\n",
    "🔹 1. Uniform Distribution\n",
    "\n",
    "- Shape: Flat (every outcome equally likely)\n",
    "- Example: Rolling a fair die, random number from 0–1\n",
    "- Key idea: No clustering; everything is equally common\n",
    "\n",
    "🔹 2. Normal Distribution\n",
    "\n",
    "- Shape: Bell curve — highest at the mean, symmetric tails\n",
    "- Example: Heights, IQ scores, measurement errors\n",
    "- Key idea: Most values near average, few extremes\n",
    "\n",
    "🔹 3. Binomial Distribution\n",
    "\n",
    "- Shape: Discrete bars (counts of successes), roughly bell-shaped when large n\n",
    "- Example: Number of heads in 10 coin flips\n",
    "- Key idea: Probability of successes across fixed trials"
   ]
  },
  {
   "cell_type": "markdown",
   "id": "e6afb621",
   "metadata": {},
   "source": [
    "| Situation               | Likely Model | Why                                    |\n",
    "| ----------------------- | ------------ | -------------------------------------- |\n",
    "| Random number generator | Uniform      | All outcomes equal                     |\n",
    "| Heights of students     | Normal       | Natural variation clusters around mean |\n",
    "| Coin toss results       | Binomial     | Only two outcomes each trial           |\n"
   ]
  },
  {
   "cell_type": "markdown",
   "id": "a88235a0",
   "metadata": {},
   "source": [
    "If you were studying email spam detection, which of these distributions might you expect for\n",
    "\n",
    "(a) the length of emails, and\n",
    "\n",
    "(b) the number of spam words in an email?\n",
    "\n",
    "(A) Length of emails → Normal distribution\n",
    "- ✅ Correct.\n",
    "- Email lengths cluster around an average — most are moderate length, while very short or very long emails are rarer.\n",
    "- (In practice, it might not be perfectly normal, but the idea holds.)\n",
    "\n",
    "(B) Number of spam words → Binomial distribution\n",
    "- ✅ Also correct.\n",
    "- Each word in an email can be seen as a trial (spam word or not),\n",
    "- and we count the number of successes (spam words) across all words — exactly what Binomial models.\n",
    "\n",
    "So far, you’ve:\n",
    "- Understood what distributions are,\n",
    "- Seen the differences among uniform, normal, and binomial,\n",
    "- Tied them to real-world examples.\n",
    "\n",
    "Next, we will visualize these distributions"
   ]
  },
  {
   "cell_type": "code",
   "execution_count": 5,
   "id": "07e3c42b",
   "metadata": {},
   "outputs": [
    {
     "data": {
      "image/png": "[encoded data removed]",
      "text/plain": [
       "<Figure size 1200x600 with 3 Axes>"
      ]
     },
     "metadata": {},
     "output_type": "display_data"
    }
   ],
   "source": [
    "# Create data\n",
    "x = np.linspace(-4, 4, 1000)\n",
    "\n",
    "# 1. Normal Distribution\n",
    "normal_y = norm.pdf(x, loc=0, scale=1)\n",
    "\n",
    "# 2. Uniform Distribution\n",
    "uniform_y = uniform.pdf(x, loc=-3, scale=6)  # from -3 to +3\n",
    "\n",
    "# 3. Binomial Distribution\n",
    "n, p = 10, 0.5\n",
    "x_binom = np.arange(0, n+1)\n",
    "binom_y = binom.pmf(x_binom, n, p)\n",
    "\n",
    "# Plot\n",
    "plt.figure(figsize=(12, 6))\n",
    "\n",
    "# Normal\n",
    "plt.subplot(1, 3, 1)\n",
    "plt.plot(x, normal_y)\n",
    "plt.title(\"Normal Distribution (μ=0, σ=1)\")\n",
    "plt.xlabel(\"x\"); plt.ylabel(\"Probability\")\n",
    "\n",
    "# Uniform\n",
    "plt.subplot(1, 3, 2)\n",
    "plt.plot(x, uniform_y)\n",
    "plt.title(\"Uniform Distribution (-3 to +3)\")\n",
    "plt.xlabel(\"x\")\n",
    "\n",
    "# Binomial\n",
    "plt.subplot(1, 3, 3)\n",
    "plt.bar(x_binom, binom_y)\n",
    "plt.title(\"Binomial Distribution (n=10, p=0.5)\")\n",
    "plt.xlabel(\"Number of successes\")\n",
    "\n",
    "plt.tight_layout()\n",
    "plt.show()\n"
   ]
  },
  {
   "cell_type": "markdown",
   "id": "5993823a",
   "metadata": {},
   "source": [
    "🧠 What to look for:\n",
    "\n",
    "- Normal: Smooth bell curve centered at 0.\n",
    "- Uniform: Flat line — all outcomes equally likely.\n",
    "- Binomial: Discrete bars centered near 5 (for 10 flips, p=0.5)."
   ]
  },
  {
   "cell_type": "markdown",
   "id": "a93e0a05",
   "metadata": {},
   "source": [
    "## 🔹 The Central Limit Theorem (CLT)\n",
    "💡 The big idea:\n",
    "> When you combine (or average) many random effects, their sum tends to follow a Normal distribution — even if the original data weren’t Normal."
   ]
  },
  {
   "cell_type": "markdown",
   "id": "ee477c28",
   "metadata": {},
   "source": [
    "#### 🧠 Intuitive example\n",
    "\n",
    "Imagine measuring daily commute time:\n",
    "\n",
    "- It’s affected by many small, independent factors:traffic lights, weather, walking speed, bus delay, etc.\n",
    "- Each factor adds a little random variation — some make the time longer, some shorter.\n",
    "\n",
    "When you add up these small, independent effects →\n",
    "their total (the commute time) tends to form a bell-shaped curve — the Normal distribution.\n",
    "\n",
    "That’s why:\n",
    "- Heights, IQ, exam scores, blood pressure, measurement errors, etc.\n",
    "all end up approximately Normal in large populations."
   ]
  },
  {
   "cell_type": "markdown",
   "id": "24d7f91c",
   "metadata": {},
   "source": [
    "🔍 In formula form:\n",
    "If $X_1, X_2, X_3,....,X_n$\t​ are independent random variables\n",
    "with mean $\\mu$ and variance $\\sigma$\n",
    "then the average:\n",
    "\n",
    "$$\\bar{X} = \\frac{1}{n} \\sum X_i$$\n",
    "\n",
    "approaches a Normal distribution as $n$ increases:\n",
    "\n",
    "$$\\bar{X} \\sim N \\left( \\mu, \\frac{\\sigma^2}{n} \\right) $$"
   ]
  },
  {
   "cell_type": "markdown",
   "id": "deafd627",
   "metadata": {},
   "source": [
    "⚙️ Why it matters for machine learning\n",
    "\n",
    "Because of the CLT:\n",
    "- Many algorithms assume Normality for estimation, errors, and confidence intervals.\n",
    "- Even if raw data aren’t normal, averages or model errors often are.\n",
    "- It underlies methods like z-scores, hypothesis tests, regression inference, etc."
   ]
  },
  {
   "cell_type": "markdown",
   "id": "7308f0ba",
   "metadata": {},
   "source": [
    "We’ll start with a Uniform distribution (which is not normal), then take averages of many random samples — and watch the shape become a bell curve as sample size increases."
   ]
  },
  {
   "cell_type": "code",
   "execution_count": 6,
   "id": "63d7b60c",
   "metadata": {},
   "outputs": [
    {
     "data": {
      "image/png": "[encoded data removed]",
      "text/plain": [
       "<Figure size 1000x800 with 4 Axes>"
      ]
     },
     "metadata": {},
     "output_type": "display_data"
    }
   ],
   "source": [
    "# 1. Settings\n",
    "n_experiments = 10000   # how many samples we’ll simulate\n",
    "sample_sizes = [1, 2, 5, 30]  # number of random draws per average\n",
    "\n",
    "# 2. Create figure\n",
    "plt.figure(figsize=(10, 8))\n",
    "\n",
    "for i, n in enumerate(sample_sizes, 1):\n",
    "    # Draw samples from a Uniform(0, 1) distribution\n",
    "    samples = np.random.uniform(0, 1, size=(n_experiments, n))\n",
    "    \n",
    "    # Compute the mean of each sample\n",
    "    sample_means = samples.mean(axis=1)\n",
    "    \n",
    "    # Plot histogram of means\n",
    "    plt.subplot(2, 2, i)\n",
    "    plt.hist(sample_means, bins=30, color='lightblue', edgecolor='black', density=True)\n",
    "    plt.title(f'Sample size n={n}')\n",
    "    plt.xlabel('Sample mean'); plt.ylabel('Density')\n",
    "\n",
    "plt.suptitle('Central Limit Theorem: Uniform(0,1) → Normal Shape', fontsize=14)\n",
    "plt.tight_layout()\n",
    "plt.show()\n"
   ]
  },
  {
   "cell_type": "markdown",
   "id": "5398e799",
   "metadata": {},
   "source": [
    "🧠 What you’ll see:\n",
    "\n",
    "- For n = 1 → looks uniform (flat).\n",
    "- For n = 2 → starts to bump in the middle.\n",
    "- For n = 5 → clearly curved.\n",
    "- For n = 30 → looks like a bell curve (Normal distribution)."
   ]
  },
  {
   "cell_type": "markdown",
   "id": "4d5388c1",
   "metadata": {},
   "source": [
    "🔹 Z-Scores and Probability Under the Normal Curve\n",
    "1. What’s a Z-score?\n",
    "\n",
    "A z-score tells us how far a value is from the mean, measured in standard deviations.\n",
    "\n",
    "$$z = \\frac{x - \\mu}{\\sigma} $$\n",
    "\n",
    "So:\n",
    "- z=0 → exactly at the mean\n",
    "- z=+1 → one SD above the mean\n",
    "- z=−2 → two SDs below the mean\n",
    "\n",
    "This standardization converts any Normal distribution into the **standard Normal** —\n",
    "mean = 0, SD = 1."
   ]
  },
  {
   "cell_type": "markdown",
   "id": "fbe31d64",
   "metadata": {},
   "source": [
    "2. What does a z-score represent?\n",
    "\n",
    "It represents position on the bell curve.\n",
    "For example:\n",
    "- z=1 → about 84th percentile (top 16% higher)\n",
    "- z=−1 → about 16th percentile\n",
    "- z=2 → about 97.5th percentile\n",
    "\n",
    "That means we can look up the probability that a value lies below or above any point."
   ]
  },
  {
   "cell_type": "markdown",
   "id": "bff6e57b",
   "metadata": {},
   "source": [
    "3. Quick example\n",
    "\n",
    "If test scores are Normal(μ=70, σ=10):\n",
    "\n",
    "What’s the probability a student scores above 80?\n",
    "\n",
    "$$z = \\frac{80-70}{10} = 1$$\n",
    "\n",
    "From the z-table, area below z=1 is ≈ 0.8413,\n",
    "so area above = 1 − 0.8413 = 0.1587 (≈16%).\n",
    "\n",
    "So, about 16% of students score above 80."
   ]
  },
  {
   "cell_type": "code",
   "execution_count": 13,
   "id": "6afbe746",
   "metadata": {},
   "outputs": [
    {
     "name": "stdout",
     "output_type": "stream",
     "text": [
      "Z-score for 80: 1.00\n",
      "Probability (Area to the left) using norm.cdf(): 0.8413\n",
      "Probability (Area to the right) using norm.sf(): 0.1587\n"
     ]
    }
   ],
   "source": [
    "# Parameters\n",
    "mean = 70\n",
    "std_dev = 10\n",
    "score_X = 80\n",
    "\n",
    "# 1. Calculate the Z-score\n",
    "z_score = (score_X - mean) / std_dev\n",
    "\n",
    "\n",
    "# 2. Calculate Cumulative Distribution Function\n",
    "# norm.cdf(z) gives the area to the left, which is P(X < 80)\n",
    "probability_below_80 = norm.cdf(z_score)\n",
    "\n",
    "# 2. Use the Survival Function (SF)\n",
    "# norm.sf(z) gives the area to the right, which is P(X > 80)\n",
    "probability_above_80 = norm.sf(z_score)\n",
    "\n",
    "print(f\"Z-score for 80: {z_score:.2f}\")\n",
    "print(f\"Probability (Area to the left) using norm.cdf(): {probability_below_80:.4f}\")\n",
    "print(f\"Probability (Area to the right) using norm.sf(): {probability_above_80:.4f}\")"
   ]
  },
  {
   "cell_type": "markdown",
   "id": "5da8e6be",
   "metadata": {},
   "source": [
    "4. Why it’s important in ML\n",
    "- Z-scores help in feature scaling (normalizing data).\n",
    "- They’re used to detect outliers (e.g., z > 3).\n",
    "- They connect model errors and probabilities in regression and hypothesis testing."
   ]
  },
  {
   "cell_type": "markdown",
   "id": "975346ea",
   "metadata": {},
   "source": [
    "🧮 Example:\n",
    "\n",
    "Suppose exam scores are normally distributed with\n",
    "mean μ=75 and standard deviation σ=8.\n",
    "\n",
    "We want to find the probability a student scores below 90."
   ]
  },
  {
   "cell_type": "markdown",
   "id": "4fc53832",
   "metadata": {},
   "source": [
    "Step 1. Compute z-score\n",
    "\n",
    "$$z = \\frac{x - \\mu}{\\sigma} = \\frac{90 - 75}{8} = \\frac{15}{8} = 1.875$$\n",
    "\n",
    "Step 2. Find probability\n",
    "\n",
    "From the z-table (or `scipy.stats.norm.cdf(1.875)`),\n",
    "\n",
    "$$P(Z<1.875)≈0.9699$$\n",
    "\n",
    "Step 3. Interpretation\n",
    "\n",
    "About 96.99% of students score below 90, and the remaining 1−0.9699=0.0301 or 3.01% score above 90."
   ]
  },
  {
   "cell_type": "code",
   "execution_count": 21,
   "id": "95d1a762",
   "metadata": {},
   "outputs": [
    {
     "name": "stdout",
     "output_type": "stream",
     "text": [
      "Z-score for 90: 1.88\n",
      "Probability student score below 90 (Area to the left) using norm.cdf(): 0.9696 = 96.96%\n",
      "Probability student score above 90 (Area to the right) using norm.sf(): 0.0304 = 3.04%\n"
     ]
    }
   ],
   "source": [
    "# Parameters\n",
    "mean = 75\n",
    "std_dev = 8\n",
    "score_X = 90\n",
    "\n",
    "# 1. Calculate the Z-score\n",
    "z_score = (score_X - mean) / std_dev\n",
    "\n",
    "\n",
    "# 2. Calculate Cumulative Distribution Function\n",
    "# norm.cdf(z) gives the area to the left, which is P(X < 80)\n",
    "probability_below_80 = norm.cdf(z_score)\n",
    "\n",
    "# 2. Use the Survival Function (SF)\n",
    "# norm.sf(z) gives the area to the right, which is P(X > 80)\n",
    "probability_above_80 = norm.sf(z_score)\n",
    "\n",
    "print(f\"Z-score for {score_X}: {z_score:.2f}\")\n",
    "print(f\"Probability student score below {score_X} (Area to the left) using norm.cdf(): {probability_below_80:.4f} = {probability_below_80*100:.2f}%\")\n",
    "print(f\"Probability student score above {score_X} (Area to the right) using norm.sf(): {probability_above_80:.4f} = {probability_above_80*100:.2f}%\")"
   ]
  },
  {
   "cell_type": "markdown",
   "id": "11d1e0e4",
   "metadata": {},
   "source": [
    "Let’s restate the key takeaway:\n",
    "\n",
    "> The z-score tells us how many SDs away a value is from the mean, and by converting that to a percentile, we know how rare or common that value is in the distribution."
   ]
  },
  {
   "cell_type": "code",
   "execution_count": 22,
   "id": "2553544c",
   "metadata": {},
   "outputs": [
    {
     "name": "stdout",
     "output_type": "stream",
     "text": [
      "Z-score for 65: -1.25\n",
      "Probability student score below 65 (Area to the left) using norm.cdf(): 0.1056 = 10.56%\n",
      "Probability student score above 65 (Area to the right) using norm.sf(): 0.8944 = 89.44%\n"
     ]
    }
   ],
   "source": [
    "# Parameters\n",
    "mean = 75\n",
    "std_dev = 8\n",
    "score_X = 65\n",
    "\n",
    "# 1. Calculate the Z-score\n",
    "z_score = (score_X - mean) / std_dev\n",
    "\n",
    "\n",
    "# 2. Calculate Cumulative Distribution Function\n",
    "# norm.cdf(z) gives the area to the left, which is P(X < 80)\n",
    "probability_below_80 = norm.cdf(z_score)\n",
    "\n",
    "# 2. Use the Survival Function (SF)\n",
    "# norm.sf(z) gives the area to the right, which is P(X > 80)\n",
    "probability_above_80 = norm.sf(z_score)\n",
    "\n",
    "print(f\"Z-score for {score_X}: {z_score:.2f}\")\n",
    "print(f\"Probability student score below {score_X} (Area to the left) using norm.cdf(): {probability_below_80:.4f} = {probability_below_80*100:.2f}%\")\n",
    "print(f\"Probability student score above {score_X} (Area to the right) using norm.sf(): {probability_above_80:.4f} = {probability_above_80*100:.2f}%\")"
   ]
  },
  {
   "cell_type": "markdown",
   "id": "673bf78b",
   "metadata": {},
   "source": [
    "> A z-score of –1.25 places the student at about the 10.56th percentile, which means they performed better than only about 10% of students — or, as you said, worse than roughly 89% of others."
   ]
  },
  {
   "cell_type": "markdown",
   "id": "2055118a",
   "metadata": {},
   "source": [
    "| z-score | Percentile | Interpretation    |\n",
    "| ------- | ---------- | ----------------- |\n",
    "| +2      | 97.5th     | Top 2.5%          |\n",
    "| +1      | 84th       | Above average     |\n",
    "| 0       | 50th       | Exactly average   |\n",
    "| –1      | 16th       | Below average     |\n",
    "| –2      | 2.5th      | Far below average |\n"
   ]
  },
  {
   "cell_type": "markdown",
   "id": "b524f9be",
   "metadata": {},
   "source": [
    "🔹 Z-Scores for Outlier Detection\n",
    "1. The core idea\n",
    "\n",
    "> Outliers are values that are too far from the mean — their z-scores are very large in magnitude.\n",
    "\n",
    "Because z-scores measure how many standard deviations away a value is, we can flag observations that are unusually far.\n",
    "\n",
    "2. Common rule of thumb\n",
    "\n",
    "| Range of z | Interpretation | \n",
    "| ---------- | -------------- | \n",
    "| ( z  < 2) | Normal (typical variation)             |\n",
    "| ( z  ≥ 2) | Unusual                                |\n",
    "| ( z  ≥ 3) | **Outlier** (rare: only ~0.3% of data) |\n",
    "\n",
    "So, if z=3, it’s 3 SDs above the mean — an extreme value."
   ]
  },
  {
   "cell_type": "markdown",
   "id": "312d2db0",
   "metadata": {},
   "source": [
    "3. Example\n",
    "\n",
    "Say exam scores have\n",
    "mean μ=75, σ=8.\n",
    "A student scores x=105:\n",
    "\n",
    "$$𝑧 = 3.75$$\n",
    "\n",
    "That’s a z-score of +3.75, meaning the score is 3.75 SDs above the mean — well beyond the “usual” range.\n",
    "\n",
    "Such a value is an outlier, possibly due to:\n",
    "- Exceptional performance, or\n",
    "- A recording or measurement error."
   ]
  },
  {
   "cell_type": "markdown",
   "id": "da29db24",
   "metadata": {},
   "source": [
    "4. In practice (ML/data preprocessing)\n",
    "\n",
    "We often:\n",
    "\n",
    "- Compute z-scores for all features.\n",
    "- Flag or remove points with ∣z∣>3.\n",
    "- Or, use robust scaling to reduce their influence."
   ]
  },
  {
   "cell_type": "markdown",
   "id": "b4493f37",
   "metadata": {},
   "source": [
    "You now understand:\n",
    "- What a z-score is and how to interpret it,\n",
    "- How to find percentiles and probabilities,\n",
    "- And how to use it for detecting outliers.\n",
    "\n",
    "That completes our Normal distribution chapter — from shape → probability → application."
   ]
  },
  {
   "cell_type": "markdown",
   "id": "006bb36c",
   "metadata": {},
   "source": [
    "Let’s zoom out for a second and look at the big picture of distributions.\n",
    "Here’s how the next topics naturally connect:\n",
    "\n",
    "1. Uniform – all outcomes equally likely.\n",
    "2. Binomial – counts of success/failure.\n",
    "3. Normal – continuous, centered around the mean (you’ve mastered this).\n",
    "4. Other common distributions:\n",
    "    - Poisson – counts of rare events (e.g. number of website errors per hour).\n",
    "    - Exponential – time between events (e.g. time until next bus arrives)."
   ]
  },
  {
   "cell_type": "markdown",
   "id": "fa40fd81",
   "metadata": {},
   "source": [
    "## 🔹 The Binomial Distribution\n",
    "1. What it describes\n",
    "> The Binomial distribution models the number of successes in a fixed number of independent trials,\n",
    "when each trial has the same probability of success p.\n",
    "\n",
    "Think of it as answering:\n",
    "> “If I repeat an experiment n times, how many times do I get success?”\n",
    "\n",
    "2. Real-world examples\n",
    "\n",
    "| Scenario             | Success                   | n          | p    |\n",
    "| -------------------- | ------------------------- | ---------- | ---- |\n",
    "| Coin toss            | Heads                     | 10 tosses  | 0.5  |\n",
    "| Email classification | Correctly tagged as spam  | 100 emails | 0.9  |\n",
    "| Manufacturing        | Product passes inspection | 20 tests   | 0.95 |\n",
    "\n",
    "3. Formula\n",
    "\n",
    "The probability of getting exactly $k$ successes in $n$ trials is:\n",
    "\n",
    "$$P(X = k) = \\binom{n}{k} p^k (1-p)^{n-k}$$\n",
    "\n",
    "where $\\binom{n}{k} = \\frac{n!}{k!(n-k)!}$ counts how many ways $k$ successes can occur.\n",
    "\n",
    "It answers:\n",
    "\n",
    "> “What’s the probability of getting exactly $k$ successes in $n$ independent trials?”\n",
    "\n",
    "4. Mean and Variance\n",
    "\n",
    "$$\\mu = np, \\sigma^2 = np(1-p)$$\n",
    "\n",
    "This gives us the expected number and the spread."
   ]
  },
  {
   "cell_type": "markdown",
   "id": "d2958e58",
   "metadata": {},
   "source": [
    "If you flip a fair coin 10 times, what’s the most likely number of heads you’ll get?\n",
    "\n",
    "You multiplied the probability of success (0.5) by the number of trials (10) — which gives\n",
    "$$\\mu = np = 10 \\times 0.5 = 5$$\n",
    "\n",
    "So, the most likely (expected) number of heads is 5.\n",
    "\n",
    "That’s the center of the binomial distribution: it peaks around 5 heads out of 10 tosses.\n",
    "\n",
    "Here’s what it looks like conceptually:\n",
    "- 0 or 10 heads → very rare (tails or heads every time).\n",
    "- 4, 5, or 6 heads → most common outcomes.\n",
    "- It’s symmetric when  p=0.5.\n",
    "\n",
    "What happens to the shape of the binomial distribution if p changes to 0.8 (more likely to get heads)?\n",
    "\n",
    "When $p=0.5$, the Binomial distribution is symmetric (centered in the middle).\n",
    "But when $p$ moves away from 0.5 — say, $p=0.8$ — it becomes skewed to the left.\n",
    "\n",
    "Here’s why:\n",
    "\n",
    "Most trials are successes (heads), so high counts (like 8 or 9) become common.\n",
    "\n",
    "Low counts (like 0–3) become rare.\n",
    "→ The tail stretches toward the left, giving a left-skewed shape.\n",
    "\n",
    "And if p=0.2, the opposite happens (skewed right).\n",
    "\n",
    "If $n=10$ and $p=0.8$, what’s the expected number of successes (mean)?\n",
    "\n",
    "$$\\mu = np = 10 \\times 0.8 = 8$$\n",
    "\n",
    "So on average, you’d expect 8 successes (or “heads”) every 10 trials.\n",
    "\n",
    "> When $n$ is large, the Binomial distribution starts to resemble the Normal distribution — this is why the Normal is such a good approximation for many real-world counts."
   ]
  },
  {
   "cell_type": "markdown",
   "id": "672e39cd",
   "metadata": {},
   "source": [
    "$$P(X = k) = \\binom{n}{k} p^k (1-p)^{n-k}$$\n",
    "\n",
    "It answers:\n",
    "\n",
    "> “What’s the probability of getting exactly $k$ successes in $n$ independent trials?”\n",
    "\n",
    "1️⃣ The three parts explained\n",
    "(a) $p^k$\n",
    "- Each “success” has probability $p$.\n",
    "- If we get $k$ successes, we multiply $p$ by itself $k$ times → $p^k$\n",
    "- That’s the chance of those $k$ successes.\n",
    "\n",
    "(b) $(1 - p)^{n - k}$\n",
    "- Each “failure” has probability $(1−p)$.\n",
    "If there are $n−k$ failures, multiply $(1−p)$ that many times.\n",
    "\n",
    "So together, $p^k(1 - p)^{n-k}$ is the probability of one specific sequence of outcomes\n",
    "(e.g., HHTHT for coin tosses)."
   ]
  },
  {
   "cell_type": "markdown",
   "id": "36cbdcf4",
   "metadata": {},
   "source": [
    "2️⃣ The tricky part — $\\binom{n}{k}$\n",
    "\n",
    "That’s the number of ways we can arrange those $k$ successes among $n$ trials.\n",
    "\n",
    "Formula:\n",
    "\n",
    "$$\\binom{n}{k} = \\frac{n!}{k!(n-k)!}$$"
   ]
  },
  {
   "cell_type": "markdown",
   "id": "c18fcb7f",
   "metadata": {},
   "source": [
    "🧮 Example 1 (we’ll do this together)\n",
    "\n",
    "A coin is flipped 4 times.\n",
    "What is the probability of getting exactly 3 heads?\n",
    "\n",
    "Step 1. Write down what we know:\n",
    "- $n=4$\n",
    "- $k=3$\n",
    "- $p=0.5$\n",
    "\n",
    "Formula:\n",
    "\n",
    "$$P(X = k) = \\binom{n}{k} p^k (1-p)^{n-k}$$\n",
    "\n",
    "Step 2. Plug in:\n",
    "\n",
    "$$P(X = 3) = \\binom{4}{3} 0.5^3 (1-0.5)^{4-3}$$\n",
    "\n",
    "Step 3. Calculate:\n",
    "\n",
    "$$\\binom{4}{3} = \\frac{4!}{3!(4-3)!} = 4$$\n",
    "\n",
    "$$P = 4 \\times (0.5)^4 = 0.25$$\n",
    "\n",
    "✅ So, the probability of getting exactly 3 heads in 4 tosses is 0.25 (25%)."
   ]
  },
  {
   "cell_type": "code",
   "execution_count": 27,
   "id": "599b0690",
   "metadata": {},
   "outputs": [
    {
     "data": {
      "text/plain": [
       "4"
      ]
     },
     "execution_count": 27,
     "metadata": {},
     "output_type": "execute_result"
    }
   ],
   "source": [
    "from scipy.special import comb\n",
    "n = 4\n",
    "k = 3\n",
    "comb(n, k, exact=True)"
   ]
  },
  {
   "cell_type": "code",
   "execution_count": 30,
   "id": "1919353a",
   "metadata": {},
   "outputs": [
    {
     "name": "stdout",
     "output_type": "stream",
     "text": [
      "P(X=3) for n=4, p=0.5: 0.2500\n"
     ]
    }
   ],
   "source": [
    "# P(X=3) for k = 3, n=4, p=0.5\n",
    "# binom.pmf (k, n, p)\n",
    "probability = binom.pmf(3, 4, 0.5) \n",
    "# probability will be 0.25\n",
    "print(f\"P(X=3) for n=4, p=0.5: {probability:.4f}\")"
   ]
  },
  {
   "cell_type": "markdown",
   "id": "ff9297f5",
   "metadata": {},
   "source": [
    "If you flip a coin 5 times, what’s the probability of getting exactly 2 heads?\n",
    "n = 5, k = 2, p = 0.5"
   ]
  },
  {
   "cell_type": "code",
   "execution_count": 31,
   "id": "9e924ff5",
   "metadata": {},
   "outputs": [
    {
     "name": "stdout",
     "output_type": "stream",
     "text": [
      "P(X=2) for n=5, p=0.5: P = 0.3125\n"
     ]
    }
   ],
   "source": [
    "# P(X=3) for k = 2, n=5, p=0.5\n",
    "# binom.pmf (k, n, p)\n",
    "k = 2\n",
    "n = 5\n",
    "p = 0.5\n",
    "probability = binom.pmf(k, n, p) \n",
    "# probability will be 0.25\n",
    "print(f\"P(X={k}) for n={n}, p={p}: P = {probability:.4f}\")"
   ]
  },
  {
   "cell_type": "markdown",
   "id": "5ad6562f",
   "metadata": {},
   "source": [
    "✅ So yes — 0.3125, or 31.25% chance of getting exactly 2 heads out of 5 flips."
   ]
  },
  {
   "cell_type": "markdown",
   "id": "bcd2870a",
   "metadata": {},
   "source": [
    "You now understand the mechanics of the Binomial formula — each term means something:\n",
    "- Choose (n k) → how many ways\n",
    "- $p^k$ → success probability\n",
    "- $(1−p)^{n−k}$ → failure probability"
   ]
  },
  {
   "cell_type": "markdown",
   "id": "b3dd1bf2",
   "metadata": {},
   "source": [
    "When $n=100$ and $p=0.5$:\n",
    "\n",
    "- The mean $μ=100×0.5=50$\n",
    "- Most outcomes cluster around 50 (maybe 48, 49, 50, 51, 52 heads)\n",
    "- Outcomes far from 50 (like 10 or 90 heads) are extremely rare\n",
    "\n",
    "So, the Binomial distribution for large $n$ becomes a smooth bell curve centered at the mean — that’s why we often approximate it with the Normal distribution."
   ]
  },
  {
   "cell_type": "markdown",
   "id": "319d091d",
   "metadata": {},
   "source": [
    "🎲 Example: Rolling a die 6 times\n",
    "\n",
    "Question:\n",
    "What’s the probability of getting exactly 2 sixes?\n",
    "- $n = 6$\n",
    "- $k = 2$\n",
    "- $p = \\frac{1}{6}$"
   ]
  },
  {
   "cell_type": "code",
   "execution_count": 33,
   "id": "6f967dd5",
   "metadata": {},
   "outputs": [
    {
     "name": "stdout",
     "output_type": "stream",
     "text": [
      "P(X=2) for n=6, p=0.1667: P = 0.2009\n"
     ]
    }
   ],
   "source": [
    "# binom.pmf (k, n, p)\n",
    "k = 2\n",
    "n = 6\n",
    "p = 1/6\n",
    "probability = binom.pmf(k, n, p) \n",
    "print(f\"P(X={k}) for n={n}, p={p:.4f}: P = {probability:.4f}\")"
   ]
  },
  {
   "cell_type": "markdown",
   "id": "ffefdd40",
   "metadata": {},
   "source": [
    "✅ Final answer: $P(X=2)≈0.2009$\n",
    "\n",
    "So, there’s about a 20% chance of rolling exactly two sixes in six rolls."
   ]
  },
  {
   "cell_type": "markdown",
   "id": "61f0938c",
   "metadata": {},
   "source": [
    "🎯 Scenario: Flipping 2 coins once\n",
    "\n",
    "Let’s list all possible outcomes:\n",
    "→ { HH, HT, TH, TT }\n",
    "\n",
    "Each outcome is equally likely, and there are 4 total.\n",
    "\n",
    "Now let’s answer a few simple questions together:\n",
    "\n",
    "1. What’s the probability of getting 2 heads (HH)?\n",
    "2. What’s the probability of getting 1 head (HT or TH)?\n",
    "3. What’s the probability of getting 0 heads (TT)?\n",
    "\n",
    "---\n",
    "\n",
    "| Outcome | # of heads |\n",
    "| ------- | ---------- |\n",
    "| HH      | 2          |\n",
    "| HT      | 1          |\n",
    "| TH      | 1          |\n",
    "| TT      | 0          |\n",
    "\n",
    "---\n",
    "\n",
    "| Outcome type | Examples | Probability |\n",
    "| ------------ | -------- | ----------- |\n",
    "| 2 heads      | HH       | **0.25**    |\n",
    "| 1 head       | HT, TH   | **0.50**    |\n",
    "| 0 heads      | TT       | **0.25**    |\n",
    "\n",
    "Those probabilities add up to 1, so it checks out.\n"
   ]
  },
  {
   "cell_type": "markdown",
   "id": "d2b5e783",
   "metadata": {},
   "source": [
    "Now, let’s connect this to the Binomial formula you already know — to see how it gives the same result.\n",
    "$n = 2, p = 0.5, k = 1$"
   ]
  },
  {
   "cell_type": "code",
   "execution_count": 34,
   "id": "fa4d69ed",
   "metadata": {},
   "outputs": [
    {
     "name": "stdout",
     "output_type": "stream",
     "text": [
      "P(X=1) for n=2, p=0.5000: P = 0.5000\n"
     ]
    }
   ],
   "source": [
    "# binom.pmf (k, n, p)\n",
    "k = 1\n",
    "n = 2\n",
    "p = 0.5\n",
    "probability = binom.pmf(k, n, p) \n",
    "print(f\"P(X={k}) for n={n}, p={p:.4f}: P = {probability:.4f}\")"
   ]
  },
  {
   "cell_type": "markdown",
   "id": "c7aa26a3",
   "metadata": {},
   "source": [
    "flipping 3 coins is the next natural step.\n",
    "\n",
    "| Outcome | # of Heads |\n",
    "| ------- | ---------- |\n",
    "| HHH     | 3          |\n",
    "| HHT     | 2          |\n",
    "| HTH     | 2          |\n",
    "| THH     | 2          |\n",
    "| HTT     | 1          |\n",
    "| THT     | 1          |\n",
    "| TTH     | 1          |\n",
    "| TTT     | 0          |\n"
   ]
  },
  {
   "cell_type": "markdown",
   "id": "6f10a8d0",
   "metadata": {},
   "source": [
    "Now we can count:\n",
    "\n",
    "- 3 heads → 1 outcome\n",
    "- 2 heads → 3 outcomes\n",
    "- 1 head → 3 outcomes\n",
    "- 0 heads → 1 outcome\n",
    "\n",
    "Each outcome has probability $1/8=0.125$."
   ]
  },
  {
   "cell_type": "markdown",
   "id": "34bec240",
   "metadata": {},
   "source": [
    "Step 2. Calculate probabilities by counting\n",
    "\n",
    "| # Heads | Ways | Probability   |\n",
    "| ------- | ---- | ------------- |\n",
    "| 0       | 1    | (1/8 = 0.125) |\n",
    "| 1       | 3    | (3/8 = 0.375) |\n",
    "| 2       | 3    | (3/8 = 0.375) |\n",
    "| 3       | 1    | (1/8 = 0.125) |\n"
   ]
  },
  {
   "cell_type": "code",
   "execution_count": 35,
   "id": "631738db",
   "metadata": {},
   "outputs": [
    {
     "name": "stdout",
     "output_type": "stream",
     "text": [
      "P(X=0) for n=3, p=0.5000: P = 0.1250\n",
      "P(X=1) for n=3, p=0.5000: P = 0.3750\n",
      "P(X=2) for n=3, p=0.5000: P = 0.3750\n",
      "P(X=3) for n=3, p=0.5000: P = 0.1250\n"
     ]
    }
   ],
   "source": [
    "# binom.pmf (k, n, p)\n",
    "n = 3\n",
    "p = 0.5\n",
    "k_list = [0,1,2,3]\n",
    "\n",
    "for k in k_list:\n",
    "    probability = binom.pmf(k, n, p) \n",
    "    print(f\"P(X={k}) for n={n}, p={p:.4f}: P = {probability:.4f}\")"
   ]
  },
  {
   "cell_type": "markdown",
   "id": "0feced90",
   "metadata": {},
   "source": [
    "We want the probability of getting at least 3 rounds (out of 5) where you got exactly one head.\n",
    "\n",
    "$n = 5, p = 0.5$\n",
    "\n",
    "$k \\geq 3$"
   ]
  },
  {
   "cell_type": "code",
   "execution_count": 40,
   "id": "8a0486cf",
   "metadata": {},
   "outputs": [
    {
     "name": "stdout",
     "output_type": "stream",
     "text": [
      "P(X=3) for n=5, p=0.5000: P = 0.3125\n",
      "P(X=4) for n=5, p=0.5000: P = 0.1562\n",
      "P(X=5) for n=5, p=0.5000: P = 0.0312\n",
      "Cumulative Probability P(X>=3) for n=5, p=0.5000: P = 0.5000\n"
     ]
    }
   ],
   "source": [
    "# binom.pmf (k, n, p)\n",
    "n = 5\n",
    "p = 0.5\n",
    "k_list = [3, 4, 5]\n",
    "cumulative_probability = 0\n",
    "\n",
    "for k in k_list:\n",
    "    probability = binom.pmf(k, n, p) \n",
    "    print(f\"P(X={k}) for n={n}, p={p:.4f}: P = {probability:.4f}\")\n",
    "    cumulative_probability += probability\n",
    "\n",
    "print(f\"Cumulative Probability P(X>=3) for n={n}, p={p:.4f}: P = {cumulative_probability:.4f}\")"
   ]
  },
  {
   "cell_type": "code",
   "execution_count": 42,
   "id": "cbaef93e",
   "metadata": {},
   "outputs": [
    {
     "name": "stdout",
     "output_type": "stream",
     "text": [
      "P(X=2) for n=3, p=0.5000: P = 0.3750\n",
      "P(X=3) for n=3, p=0.5000: P = 0.1250\n",
      "Cumulative Probability P(X>=2) for n=3, p=0.5000: P = 0.5000\n"
     ]
    }
   ],
   "source": [
    "# binom.pmf (k, n, p)\n",
    "n = 3\n",
    "p = 0.5\n",
    "k_list = [2, 3]\n",
    "cumulative_probability = 0\n",
    "\n",
    "for k in k_list:\n",
    "    probability = binom.pmf(k, n, p) \n",
    "    print(f\"P(X={k}) for n={n}, p={p:.4f}: P = {probability:.4f}\")\n",
    "    cumulative_probability += probability\n",
    "\n",
    "print(f\"Cumulative Probability P(X>=2) for n={n}, p={p:.4f}: P = {cumulative_probability:.4f}\")"
   ]
  },
  {
   "cell_type": "markdown",
   "id": "382712ab",
   "metadata": {},
   "source": [
    "Let’s do it cleanly and step-by-step for 3 coins per trial, then move to repeating those trials.\n",
    "\n",
    "1) One trial = toss 3 coins\n",
    "\n",
    "List of outcomes (8 equally likely): HHH, HHT, HTH, THH, HTT, THT, TTH, TTT\n",
    "\n",
    "Counts and probabilities for number of heads in one trial:\n",
    "\n",
    "- 0 heads: 1 way → P=1/8=0.125\n",
    "- 1 head: 3 ways → P=3/8=0.375\n",
    "- 2 heads: 3 ways → P=3/8=0.375\n",
    "- 3 heads: 1 way → P=1/8=0.125\n",
    "\n",
    "So if you care about the event “exactly 1 head in a trial,” the per-trial success probability is $p=0.375$."
   ]
  },
  {
   "cell_type": "code",
   "execution_count": 57,
   "id": "048b11e0",
   "metadata": {},
   "outputs": [
    {
     "name": "stdout",
     "output_type": "stream",
     "text": [
      "P(X=2) for n=5, p=0.3750: P = 0.3433\n"
     ]
    }
   ],
   "source": [
    "# binom.pmf (k, n, p)\n",
    "# exactly 2 rounds with exactly 1 head\n",
    "k = 2\n",
    "n = 5\n",
    "p = 0.375\n",
    "probability = binom.pmf(k, n, p) \n",
    "print(f\"P(X={k}) for n={n}, p={p:.4f}: P = {probability:.4f}\")"
   ]
  },
  {
   "cell_type": "code",
   "execution_count": 58,
   "id": "b14cd8c7",
   "metadata": {},
   "outputs": [
    {
     "name": "stdout",
     "output_type": "stream",
     "text": [
      "P(X=3) for n=5, p=0.3750: P = 0.2060\n",
      "P(X=4) for n=5, p=0.3750: P = 0.0618\n",
      "P(X=5) for n=5, p=0.3750: P = 0.0074\n",
      "Cumulative Probability P(X>2) for n=5, p=0.3750: P = 0.2752\n"
     ]
    }
   ],
   "source": [
    "# binom.pmf (k, n, p)\n",
    "n = 5\n",
    "p = 0.375\n",
    "k_list = [3, 4, 5]\n",
    "cumulative_probability = 0\n",
    "\n",
    "for k in k_list:\n",
    "    probability = binom.pmf(k, n, p) \n",
    "    print(f\"P(X={k}) for n={n}, p={p:.4f}: P = {probability:.4f}\")\n",
    "    cumulative_probability += probability\n",
    "\n",
    "print(f\"Cumulative Probability P(X>2) for n={n}, p={p:.4f}: P = {cumulative_probability:.4f}\")"
   ]
  },
  {
   "cell_type": "code",
   "execution_count": 62,
   "id": "ca486368",
   "metadata": {},
   "outputs": [
    {
     "name": "stdout",
     "output_type": "stream",
     "text": [
      "Cumulative Probability P(X>2) for n=5, p=0.3750: P = 0.2752\n",
      "Cumulative Probability P(X<=2) for n=5, p=0.3750: P = 0.7248\n"
     ]
    }
   ],
   "source": [
    "# binom.sf (k, n, p)\n",
    "n = 5\n",
    "p = 0.375\n",
    "k = 2\n",
    "\n",
    "probability_less_equal_2 = binom.cdf(k, n, p)\n",
    "probability_more_than_2 = binom.sf(k, n, p) \n",
    "\n",
    "print(f\"Cumulative Probability P(X>2) for n={n}, p={p:.4f}: P = {probability_more_than_2:.4f}\")\n",
    "print(f\"Cumulative Probability P(X<=2) for n={n}, p={p:.4f}: P = {probability_less_equal_2:.4f}\")"
   ]
  },
  {
   "cell_type": "markdown",
   "id": "b4fe7070",
   "metadata": {},
   "source": [
    "Thomas Note:\n",
    "> cdf is cumulative probability function, it find k and less. sf is the opposite.\n"
   ]
  },
  {
   "cell_type": "markdown",
   "id": "3063f7d5",
   "metadata": {},
   "source": [
    "The meaning of $k$ in the Binomial formula\n",
    "\n",
    "$$P(X = k) = \\binom{n}{k} p^k (1-p)^{n-k}$$\n",
    "\n",
    "- $k$ = the exact number of successes you’re counting.\n",
    "- It gives you the probability of getting exactly $k$ successes — not more, not less."
   ]
  },
  {
   "cell_type": "markdown",
   "id": "ee9f06cc",
   "metadata": {},
   "source": [
    "🧩 Example\n",
    "\n",
    "Say each trial is “2 coins tossed,” and success = “exactly one head.”\n",
    "\n",
    "If you repeat that trial 5 times:\n",
    "- $P(X=2)$ → probability of getting exactly 2 rounds with one head.\n",
    "- $P(X≥2)$ → probability of getting 2 or more such rounds (so 2, 3, 4, or 5).\n",
    "\n",
    "That “≥” means add together all the individual P(X=k) values from 2 upward:\n",
    "$$P(X≥2)=P(X=2)+P(X=3)+P(X=4)+P(X=5)$$\n",
    "\n",
    "So yes — “exactly” vs. “at least” changes the meaning and the number of terms you sum over."
   ]
  },
  {
   "cell_type": "markdown",
   "id": "d5078765",
   "metadata": {},
   "source": [
    "## 🔹 The Poisson Distribution\n",
    "\n",
    "The Poisson distribution is the natural next step after the Binomial, especially when we model rare events.\n",
    "\n",
    "🔹 1. The core idea\n",
    "> The Poisson distribution models the number of times an event happens in a fixed interval of time, space, or opportunity — when events are rare and independent.\n",
    "\n",
    "🧠 Real-world examples\n",
    "\n",
    "| Situation          | “Event” counted  | Typical interval |\n",
    "| ------------------ | ---------------- | ---------------- |\n",
    "| Website monitoring | Server errors    | per hour         |\n",
    "| Call center        | Incoming calls   | per minute       |\n",
    "| Biology            | Mutations in DNA | per cell         |\n",
    "| City traffic       | Car accidents    | per day          |\n",
    "\n",
    "So it answers questions like:\n",
    "> “What’s the probability of seeing exactly 3 errors in one hour if the average is 2 per hour?”"
   ]
  },
  {
   "cell_type": "markdown",
   "id": "b62d6d2d",
   "metadata": {},
   "source": [
    "🔹 2. The Poisson formula\n",
    "\n",
    "$$P(X=k) = \\frac{\\lambda^k e^{-\\lambda}}{k!} $$\n",
    "\n",
    "Where:\n",
    "- $k$ = number of occurrences (0, 1, 2, 3, …)\n",
    "- $\\lambda$ = mean number of occurrences per interval\n",
    "- $e$ = 2.718… (Euler’s number)\n",
    "\n",
    "\n",
    "🔹 3. Key properties\n",
    "- Mean = $\\lambda$\n",
    "- Variance = $\\lambda$\n",
    "- No upper limit on $k$ (unlike Binomial’s n)\n",
    "- Approximates the Binomial when $n$ is large and $p$ is small\n",
    "(rare events, many trials)."
   ]
  },
  {
   "cell_type": "markdown",
   "id": "7eb9ba7d",
   "metadata": {},
   "source": [
    "If a website averages 4 errors per hour, what is λ in this case?\n",
    "\n",
    "Yes — λ=4 means on average, 4 events per hour (in this case, website errors).\n",
    "\n",
    "That’s the beauty of the Poisson model:\n",
    "you only need one parameter — the mean rate λ — and it tells you the whole story."
   ]
  },
  {
   "cell_type": "markdown",
   "id": "32333ac8",
   "metadata": {},
   "source": [
    "🧮 Example\n",
    "\n",
    "If the average is λ=4 errors per hour,\n",
    "what’s the probability of getting exactly 2 errors in one hour?\n",
    "\n",
    "$$P(X=2) = \\frac{4^2 e^{-4}}{2!} = \\frac{16 e^{-4}}{2} = 0.1464$$\n",
    "\n",
    "✅ Final Answer: $P(X=2)≈0.146 ≈ 14.6\\%$\n",
    "\n",
    "That means:\n",
    "> If a website averages 4 errors per hour, there’s about a 14.6% chance of getting exactly 2 errors in the next hour."
   ]
  },
  {
   "cell_type": "code",
   "execution_count": 49,
   "id": "02d1a1fc",
   "metadata": {},
   "outputs": [
    {
     "name": "stdout",
     "output_type": "stream",
     "text": [
      "P(X=2) = 0.1465\n"
     ]
    }
   ],
   "source": [
    "lam = 4\n",
    "k = 2\n",
    "\n",
    "# PMF = probability mass function\n",
    "P = poisson.pmf(k, lam)\n",
    "print(f\"P(X={k}) = {P:.4f}\")"
   ]
  },
  {
   "cell_type": "markdown",
   "id": "e13bd138",
   "metadata": {},
   "source": [
    "Let’s continue with our same example:\n",
    "- λ=4 (average 4 events per hour)."
   ]
  },
  {
   "cell_type": "markdown",
   "id": "52d89337",
   "metadata": {},
   "source": [
    "🧮 Step 1. Formula\n",
    "\n",
    "$$P(X=k) = \\frac{4^k e^{-4}}{k!} $$\n",
    "\t​\n",
    "\n",
    "\n",
    "We’ll compute this for $k=0,1,2,3,4,5,6$.\n",
    "\n",
    "| (k) | Formula           | (P(X=k)) (approx) |\n",
    "| --- | ----------------- | ----------------- |\n",
    "| 0   | (4^0 e^{-4} / 0!) | 0.0183            |\n",
    "| 1   | (4^1 e^{-4} / 1!) | 0.0733            |\n",
    "| 2   | (4^2 e^{-4} / 2!) | 0.1465            |\n",
    "| 3   | (4^3 e^{-4} / 3!) | 0.1954            |\n",
    "| 4   | (4^4 e^{-4} / 4!) | 0.1954            |\n",
    "| 5   | (4^5 e^{-4} / 5!) | 0.1563            |\n",
    "| 6   | (4^6 e^{-4} / 6!) | 0.1042            |\n",
    "\n",
    "\n",
    "🧩 Step 2. What it means visually\n",
    "\n",
    "If you plotted these bars (k on the x-axis, P(X=k) on y-axis), you’d see:\n",
    "- The curve peaks around k = 3–4 (the mean λ).\n",
    "- Then it gently tapers off as k increases.\n",
    "\n",
    "🧠 Quick insight\n",
    "- Notice the probabilities for 3 and 4 are equal —\n",
    "- when λ = 4, the distribution is roughly centered near its mean.\n",
    "- That’s why we often say mean = variance = λ in Poisson."
   ]
  },
  {
   "cell_type": "code",
   "execution_count": 50,
   "id": "ea019c24",
   "metadata": {},
   "outputs": [
    {
     "name": "stdout",
     "output_type": "stream",
     "text": [
      "P(X=0) = 0.0183\n",
      "P(X=1) = 0.0733\n",
      "P(X=2) = 0.1465\n",
      "P(X=3) = 0.1954\n",
      "P(X=4) = 0.1954\n",
      "P(X=5) = 0.1563\n",
      "P(X=6) = 0.1042\n",
      "P(X=7) = 0.0595\n",
      "P(X=8) = 0.0298\n",
      "P(X=9) = 0.0132\n",
      "P(X=10) = 0.0053\n"
     ]
    },
    {
     "data": {
      "image/png": "[encoded data removed]",
      "text/plain": [
       "<Figure size 800x500 with 1 Axes>"
      ]
     },
     "metadata": {},
     "output_type": "display_data"
    }
   ],
   "source": [
    "import numpy as np\n",
    "import matplotlib.pyplot as plt\n",
    "from math import exp, factorial\n",
    "\n",
    "# Parameters\n",
    "lmbda = 4  # mean rate (λ)\n",
    "k_values = np.arange(0, 11)  # number of events (0 to 10)\n",
    "\n",
    "# Compute Poisson probabilities\n",
    "probs = [(lmbda**k * exp(-lmbda)) / factorial(k) for k in k_values]\n",
    "\n",
    "# Print probabilities\n",
    "for k, p in zip(k_values, probs):\n",
    "    print(f\"P(X={k}) = {p:.4f}\")\n",
    "\n",
    "# Plot\n",
    "plt.figure(figsize=(8, 5))\n",
    "plt.bar(k_values, probs, color='skyblue', edgecolor='black')\n",
    "plt.title(\"Poisson Distribution (λ = 4)\", fontsize=14)\n",
    "plt.xlabel(\"Number of events (k)\")\n",
    "plt.ylabel(\"Probability P(X = k)\")\n",
    "plt.grid(axis='y', linestyle='--', alpha=0.6)\n",
    "plt.show()\n"
   ]
  },
  {
   "cell_type": "markdown",
   "id": "5081fb65",
   "metadata": {},
   "source": [
    "🧠 What to observe:\n",
    "\n",
    "- The bar heights show $P(X=k) = \\frac{\\lambda^k e^{-\\lambda}}{k!}$\n",
    "- The peak occurs near $k=\\lambda=4$.\n",
    "- The curve is right-skewed when λ is small, and becomes more bell-shaped as λ increases."
   ]
  },
  {
   "cell_type": "code",
   "execution_count": 63,
   "id": "6c454fd3",
   "metadata": {},
   "outputs": [
    {
     "data": {
      "image/png": "[encoded data removed]",
      "text/plain": [
       "<Figure size 900x600 with 1 Axes>"
      ]
     },
     "metadata": {},
     "output_type": "display_data"
    }
   ],
   "source": [
    "# λ values to compare\n",
    "lambdas = [1, 4, 10]\n",
    "colors = ['orange', 'skyblue', 'lightgreen']\n",
    "\n",
    "# Range of k values (enough to cover all cases)\n",
    "k_values = np.arange(0, 21)\n",
    "\n",
    "plt.figure(figsize=(9, 6))\n",
    "\n",
    "for lmbda, color in zip(lambdas, colors):\n",
    "    # Compute Poisson probabilities\n",
    "    probs = [(lmbda**k * exp(-lmbda)) / factorial(k) for k in k_values]\n",
    "    plt.plot(k_values, probs, marker='o', color=color, label=f\"λ = {lmbda}\")\n",
    "\n",
    "# Formatting\n",
    "plt.title(\"Comparison of Poisson Distributions (λ = 1, 4, 10)\", fontsize=14)\n",
    "plt.xlabel(\"Number of events (k)\")\n",
    "plt.ylabel(\"Probability P(X = k)\")\n",
    "plt.legend()\n",
    "plt.grid(True, linestyle='--', alpha=0.6)\n",
    "plt.show()\n"
   ]
  },
  {
   "cell_type": "markdown",
   "id": "4fc2aade",
   "metadata": {},
   "source": [
    "Let’s unpack why the Poisson distribution starts to look Normal when λ becomes large.\n",
    "\n",
    "🔹 1. Remember what each represents\n",
    "- Poisson: counts of rare events in fixed intervals\n",
    "- Normal: continuous, symmetric “bell curve” that describes averages or large sums\n",
    "\n",
    "At first glance, they seem totally different — one is for discrete counts, one is for continuous values. But they connect through the Central Limit Theorem.\n",
    "\n",
    "🔹 2. Intuitive explanation\n",
    "\n",
    "When λ is small (say, 1 or 2):\n",
    "- Events are rare,\n",
    "- So 0, 1, 2 events dominate the probability,\n",
    "- The distribution is right-skewed (tail to the right).\n",
    "\n",
    "But as λ grows:\n",
    "- We’re summing more independent little event counts,\n",
    "- Random fluctuations start to average out,\n",
    "- So the shape becomes smoother and symmetric → like the Normal bell curve.\n",
    "\n",
    "That’s Central Limit Theorem at work again.\n",
    "\n",
    "🔹 3. Mathematical connection\n",
    "\n",
    "If $X \\sim Poisson(\\lambda)$, then for large λ:\n",
    "\n",
    "$$X \\approx N (\\mu = \\lambda, \\sigma^2 = \\lambda)$$\n",
    "\n",
    "That means we can approximate:\n",
    "\n",
    "$P(X=k) \\approx $ area under $N(λ,λ)$ between k−0.5 and k+0.5\n",
    "\n",
    "(the 0.5 is a continuity correction since Poisson is discrete).\n",
    "\n",
    "🔹 4. Practical implication\n",
    "\n",
    "When λ ≥ ~10:\n",
    "- Poisson probabilities and Normal probabilities are almost identical.\n",
    "- So we can replace complicated factorials with a simpler z-score approach."
   ]
  },
  {
   "cell_type": "markdown",
   "id": "14b806ac",
   "metadata": {},
   "source": [
    "If X∼Poisson(λ=25), what Normal distribution could we use to approximate it?\n",
    "(Think: what would be the mean and SD?)"
   ]
  },
  {
   "cell_type": "markdown",
   "id": "6d02a7cb",
   "metadata": {},
   "source": [
    "Let’s recall the rule:\n",
    "\n",
    "If\n",
    "$$X \\sim Poisson(\\lambda)$$\n",
    "\n",
    "then for large $\\lambda$:\n",
    "\n",
    "$$X \\approx N(\\mu = \\lambda,\\sigma^2 = \\lambda)$$\n",
    "\n",
    "So for $\\lambda = 25$:\n",
    "\n",
    "$$\\mu = 25, \\sigma = \\sqrt{25} = 5$$\n",
    "\n",
    "✅ Therefore, the approximate Normal distribution is\n",
    "\n",
    "$$X \\approx N(25, 5^2)$$\n",
    "\n",
    "(mean 25, standard deviation 5).\n",
    "\n",
    "That means you can use z-scores and the Normal table to estimate Poisson probabilities\n",
    "\n",
    "for example, $P(X≤30)$ could be approximated by $P(Z≤(30.5−25)/5)$."
   ]
  },
  {
   "cell_type": "markdown",
   "id": "43359bf8",
   "metadata": {},
   "source": [
    "Would you like to try that approximation together — calculating $P(X≤30)$ using the Normal model?\n",
    "\n",
    "We’re still talking about a Poisson(λ = 25) distribution here, right?\n",
    "\n",
    "If yes, then:\n",
    "$$Mean μ=λ=25$$\n",
    "\n",
    "$$Standard deviation \\sigma = \\sqrt{\\sigma} = \\sqrt{25} = 5$$\n",
    "\n",
    "So:\n",
    "✅ Mean = 25, SD = 5\n",
    "\n",
    "If you meant a different Poisson (say λ = 30), then yes:\n",
    "$$μ=30,σ=\\sqrt{30}≈5.48$$\n",
    "\n",
    "Now, since the Normal approximation uses\n",
    "\n",
    "$$X∼N(λ,λ)$$\n",
    "\n",
    "you can quickly get both the mean and SD for any λ by just taking its square root for σ."
   ]
  },
  {
   "cell_type": "markdown",
   "id": "b4fab9c5",
   "metadata": {},
   "source": [
    "Would you like to apply that to find P(X≤35) for λ = 30, using the Normal approximation?\n",
    "\n",
    "Given:\n",
    "\n",
    "$$X∼Poisson(λ=30)$$\n",
    "\n",
    "Approximate with\n",
    "\n",
    "$$X≈N(μ=30,σ=\\sqrt{30}≈5.48)$$\n",
    "\n",
    "We want $P(X≤35)$."
   ]
  },
  {
   "cell_type": "markdown",
   "id": "6812ec14",
   "metadata": {},
   "source": [
    "Step 1. Continuity correction\n",
    "\n",
    "Because the Poisson is discrete, we use 35.5 instead of 35:\n",
    "\n",
    "$$P(X≤35)≈P(Z≤\\frac{35.5−30}{5.48})$$\n",
    "\n",
    "Step 2. Compute z-score\n",
    "\n",
    "$$z=\\frac{5.5}{5.48}≈1.00$$\n",
    "\n",
    "Step 3. Use z-table\n",
    "\n",
    "From the standard normal table:\n",
    "\n",
    "$$P(Z≤1.00)≈0.8413$$\n",
    "\n",
    "✅ Final answer: \n",
    "$$P(X≤35)≈0.8413$$"
   ]
  },
  {
   "cell_type": "markdown",
   "id": "0cb5a2de",
   "metadata": {},
   "source": [
    "#### Using Poisson Computation"
   ]
  },
  {
   "cell_type": "code",
   "execution_count": 65,
   "id": "e6af9b04",
   "metadata": {},
   "outputs": [
    {
     "name": "stdout",
     "output_type": "stream",
     "text": [
      "The probability P(X <= 35) for a Poisson distribution with lambda = 30 is: 0.8426\n"
     ]
    }
   ],
   "source": [
    "# Define the parameters\n",
    "lambda_val = 30\n",
    "k = 35\n",
    "\n",
    "# Calculate P(X <= 35) using the cumulative distribution function (CDF)\n",
    "probability = poisson.cdf(k, mu=lambda_val)\n",
    "\n",
    "# Print the result\n",
    "print(f\"The probability P(X <= 35) for a Poisson distribution with lambda = {lambda_val} is: {probability:.4f}\")\n",
    "# Output: The probability P(X <= 35) for a Poisson distribution with lambda = 30 is: 0.8426165255696685"
   ]
  },
  {
   "cell_type": "markdown",
   "id": "44db6a33",
   "metadata": {},
   "source": [
    "#### Using Z-Score"
   ]
  },
  {
   "cell_type": "code",
   "execution_count": 66,
   "id": "e85b3d9e",
   "metadata": {},
   "outputs": [
    {
     "name": "stdout",
     "output_type": "stream",
     "text": [
      "Poisson Parameter (lambda): 30\n",
      "Target X: 35\n",
      "------------------------------\n",
      "Normal Approximation Parameters:\n",
      "Mean (mu): 30\n",
      "Standard Deviation (sigma): 5.4772\n",
      "Corrected X value: 35.5\n",
      "Calculated Z-score: 1.0042\n",
      "------------------------------\n",
      "Approximate Probability P(X <= 35) using Z-score: 0.842349\n"
     ]
    }
   ],
   "source": [
    "# 1. Define the parameters\n",
    "lambda_val = 30\n",
    "X = 35\n",
    "\n",
    "# 2. Define Normal Distribution parameters for approximation\n",
    "mu = lambda_val        # Mean (mu) = lambda\n",
    "sigma = np.sqrt(lambda_val) # Standard Deviation (sigma) = sqrt(lambda)\n",
    "\n",
    "# 3. Apply Continuity Correction for P(X <= 35)\n",
    "# P(X <= 35) is approximated by P(X_Normal <= 35 + 0.5)\n",
    "X_corrected = X + 0.5\n",
    "\n",
    "# 4. Calculate the Z-score\n",
    "Z_score = (X_corrected - mu) / sigma\n",
    "\n",
    "# 5. Calculate the approximate probability P(Z <= Z_score)\n",
    "probability_approx = norm.cdf(Z_score)\n",
    "\n",
    "# Print the results\n",
    "print(f\"Poisson Parameter (lambda): {lambda_val}\")\n",
    "print(f\"Target X: {X}\")\n",
    "print(\"-\" * 30)\n",
    "print(f\"Normal Approximation Parameters:\")\n",
    "print(f\"Mean (mu): {mu}\")\n",
    "print(f\"Standard Deviation (sigma): {sigma:.4f}\")\n",
    "print(f\"Corrected X value: {X_corrected}\")\n",
    "print(f\"Calculated Z-score: {Z_score:.4f}\")\n",
    "print(\"-\" * 30)\n",
    "print(f\"Approximate Probability P(X <= 35) using Z-score: {probability_approx:.6f}\")"
   ]
  },
  {
   "cell_type": "markdown",
   "id": "22c065f5",
   "metadata": {},
   "source": [
    "So, there’s about an 84% chance of getting 35 or fewer events when the average is 30."
   ]
  },
  {
   "cell_type": "markdown",
   "id": "34981fc9",
   "metadata": {},
   "source": [
    "let’s find the 90th percentile for $X∼Poisson(λ=30)$. I’ll show a quick Normal-approximation (with continuity correction) and then the exact result so you can compare.\n",
    "\n",
    "1) Normal approximation (with continuity correction)\n",
    "\n",
    "Poisson(30) ≈ Normal with mean μ=30 and SD $\\sigma = \\sqrt{30} \\approx 5.4772$\n",
    "\n",
    "We want the smallest integer $k$ such that $P(X≤k)≥0.90$.\n",
    "\n",
    "Using the 90%-quantile of the standard normal $z_{0.90} \\approx 1.28155$ and continuity correction:\n",
    "\n",
    "$$k + 0.5 \\approx \\mu + z_{0.90} \\sigma$$\n",
    "\n",
    "$$k + 0.5 \\approx 30 +1.28155 \\times 5.47723 \\approx 37.02$$\n",
    "\n",
    "$$k≈37.02−0.5≈36.52$$\n",
    "\n",
    "So the approximation suggests $k$ is about 36–37 (we take an integer).\n",
    "\n",
    "2) Exact Poisson CDF check\n",
    "\n",
    "Computing the Poisson cumulative probabilities shows:\n",
    "- $P(X≤36)≈0.88037$\n",
    "- $P(X≤37)≈0.91099$\n",
    "\n",
    "So the smallest integer $k$ with $P(X≤k)≥0.90$ is $k=37$.\n",
    "\n",
    "\n",
    "Final answer\n",
    "\n",
    "The 90th percentile for Poisson(30) is $k=37$.\n",
    "> Interpretation: there’s about a 90% chance of observing 37 or fewer events in the interval, and about a 10% chance of observing more than 37."
   ]
  },
  {
   "cell_type": "markdown",
   "id": "aabd95b1",
   "metadata": {},
   "source": [
    "If poisson.cdf(37, mu=30) ≈ 0.91, what does that number represent in plain words?\n",
    "\n",
    "> There is a 91% chance that the number of events will be 37 or fewer.\n",
    "\n",
    "So the CDF (cumulative distribution function) always gives you the probability up to and including that value — not the probability of exactly 37, but of ≤ 37."
   ]
  },
  {
   "cell_type": "markdown",
   "id": "1d545188",
   "metadata": {},
   "source": []
  }
 ],
 "metadata": {
  "kernelspec": {
   "display_name": "stats",
   "language": "python",
   "name": "python3"
  },
  "language_info": {
   "codemirror_mode": {
    "name": "ipython",
    "version": 3
   },
   "file_extension": ".py",
   "mimetype": "text/x-python",
   "name": "python",
   "nbconvert_exporter": "python",
   "pygments_lexer": "ipython3",
   "version": "3.11.13"
  }
 },
 "nbformat": 4,
 "nbformat_minor": 5
}
