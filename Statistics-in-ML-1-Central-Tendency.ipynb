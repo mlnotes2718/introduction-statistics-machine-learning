{
  "cells": [
    {
      "cell_type": "markdown",
      "id": "ccad04de",
      "metadata": {},
      "source": [
        "# Statistics in Machine Learning 1 - Central Tendency"
      ]
    },
    {
      "cell_type": "markdown",
      "id": "aeea66dc",
      "metadata": {},
      "source": [
        "## 1.0 Central Tendency"
      ]
    },
    {
      "cell_type": "markdown",
      "id": "6e7faf26",
      "metadata": {},
      "source": [
        "\n",
        "This notebook captures an interactive tutoring conversation on **central tendency, spread, outliers, z-scores, and percentiles**."
      ]
    },
    {
      "cell_type": "code",
      "execution_count": 14,
      "id": "9cdd7f32",
      "metadata": {},
      "outputs": [],
      "source": [
        "import numpy as np\n",
        "import pandas as pd\n",
        "import matplotlib.pyplot as plt\n",
        "from matplotlib.patches import Patch\n",
        "import seaborn as sns\n",
        "from scipy import stats\n",
        "from scipy.stats import norm"
      ]
    },
    {
      "cell_type": "markdown",
      "id": "19437f38",
      "metadata": {},
      "source": [
        "### 1.1 Central Tendency\n",
        "- **Mean**: average of values.\n",
        "- **Median**: middle value when sorted.\n",
        "- **Mode**: most frequent value."
      ]
    },
    {
      "cell_type": "markdown",
      "id": "f19cfe85",
      "metadata": {},
      "source": [
        "Central tendency is just a fancy way of saying:\n",
        "👉 “What is the typical or central value of a dataset?”\n",
        "\n",
        "It’s a way to summarize a whole bunch of numbers with one number that represents the \"middle\" or \"center\" of the data.\n",
        "\n",
        "There are three main measures of central tendency:\n",
        "\n",
        "1. Mean → the average (add everything up, divide by how many numbers).\n",
        "\n",
        "2. Median → the middle value when the data is ordered.\n",
        "\n",
        "3. Mode → the most frequent value."
      ]
    },
    {
      "cell_type": "code",
      "execution_count": 2,
      "id": "44cfdeb8",
      "metadata": {},
      "outputs": [],
      "source": [
        "dataset =[2, 4, 4, 5, 9]"
      ]
    },
    {
      "cell_type": "code",
      "execution_count": 3,
      "id": "05d0f873",
      "metadata": {},
      "outputs": [
        {
          "name": "stdout",
          "output_type": "stream",
          "text": [
            "Mean: 4.8, Median: 4.0, Mode: 4\n"
          ]
        }
      ],
      "source": [
        "mean = np.mean(dataset)  # Mean\n",
        "median = np.median(dataset)  # Median\n",
        "mode = stats.mode(dataset)[0]  # Mode\n",
        "\n",
        "print(f\"Mean: {mean}, Median: {median}, Mode: {mode}\")"
      ]
    },
    {
      "cell_type": "markdown",
      "id": "66090d16",
      "metadata": {},
      "source": [
        "All three measures of central tendency can give slightly different “typical values.”"
      ]
    },
    {
      "cell_type": "code",
      "execution_count": 4,
      "id": "b4b13105",
      "metadata": {},
      "outputs": [
        {
          "name": "stdout",
          "output_type": "stream",
          "text": [
            "Mean: 35.0, Median: 3.0, Mode: 2\n"
          ]
        }
      ],
      "source": [
        "dataset = [2, 3, 100]\n",
        "\n",
        "mean = np.mean(dataset)  # Mean\n",
        "median = np.median(dataset)  # Median\n",
        "mode = stats.mode(dataset)[0]  # Mode\n",
        "\n",
        "print(f\"Mean: {mean}, Median: {median}, Mode: {mode}\")"
      ]
    },
    {
      "cell_type": "markdown",
      "id": "c8ea0ae4",
      "metadata": {},
      "source": [
        "So here the median = 3 feels like the best “typical” value, because the mean (35) doesn’t really describe the bulk of the data.\n",
        "\n",
        "The mean gets “dragged” toward the outlier because it depends on all values.\n",
        "\n",
        "The median only cares about the middle position, so one extreme value doesn’t change it much.\n",
        "\n",
        "That’s why in cases like income data (where a few very rich people can skew the mean), the median income is usually reported instead."
      ]
    },
    {
      "cell_type": "code",
      "execution_count": 5,
      "id": "c6f86bc4",
      "metadata": {},
      "outputs": [
        {
          "name": "stdout",
          "output_type": "stream",
          "text": [
            "Mean: 74.6, Median: 72.0, Mode: 60\n"
          ]
        }
      ],
      "source": [
        "dataset  = [60, 65, 70, 72, 75, 80, 100]\n",
        "\n",
        "mean = np.mean(dataset)  # Mean\n",
        "median = np.median(dataset)  # Median\n",
        "mode = stats.mode(dataset)[0]  # Mode\n",
        "\n",
        "print(f\"Mean: {round(mean,1)}, Median: {median}, Mode: {mode}\")"
      ]
    },
    {
      "cell_type": "markdown",
      "id": "85e68562",
      "metadata": {},
      "source": [
        "So while the mean is a bit higher (pulled by the 100), the median (72) reflects the “typical” student better."
      ]
    },
    {
      "cell_type": "markdown",
      "id": "00cdab54",
      "metadata": {},
      "source": [
        "Alright — here’s a simple rule of thumb:\n",
        "\n",
        "Use the mean when the data is symmetrical (no extreme highs or lows).\n",
        "Think: bell-shaped, like heights of students.\n",
        "\n",
        "Use the median when the data is skewed or has outliers.\n",
        "Think: income, house prices, or test scores with one person scoring 100 when most are around 70.\n",
        "\n",
        "🔑 Memory tip:\n",
        "\n",
        "“Median protects you from the mean things outliers do.”"
      ]
    },
    {
      "cell_type": "code",
      "execution_count": 6,
      "id": "6dada7ca",
      "metadata": {},
      "outputs": [
        {
          "name": "stdout",
          "output_type": "stream",
          "text": [
            "Mean: 12.1, Median: 8.0, Mode: 6\n"
          ]
        }
      ],
      "source": [
        "dataset = [5, 6, 6, 7, 8, 8, 9, 10, 50]\n",
        "\n",
        "mean = np.mean(dataset)  # Mean\n",
        "median = np.median(dataset)  # Median\n",
        "mode = stats.mode(dataset)[0]  # Mode\n",
        "\n",
        "print(f\"Mean: {round(mean,1)}, Median: {median}, Mode: {mode}\")"
      ]
    },
    {
      "cell_type": "markdown",
      "id": "ee3a2140",
      "metadata": {},
      "source": [
        "Here the mean got pulled way up by the outlier 50, while the median stayed near the bulk of the data.\n",
        "\n",
        "👉 So in this case, median = 8 really is the better “typical” value."
      ]
    },
    {
      "cell_type": "code",
      "execution_count": 7,
      "id": "102c4744",
      "metadata": {},
      "outputs": [
        {
          "name": "stdout",
          "output_type": "stream",
          "text": [
            "Mean: 13.0, Median: 13.0, Mode: 10\n"
          ]
        }
      ],
      "source": [
        "dataset = [10, 11, 12, 13, 14, 15, 16]\n",
        "\n",
        "mean = np.mean(dataset)  # Mean\n",
        "median = np.median(dataset)  # Median\n",
        "mode = stats.mode(dataset)[0]  # Mode\n",
        "\n",
        "print(f\"Mean: {round(mean,1)}, Median: {median}, Mode: {mode}\")\n"
      ]
    },
    {
      "cell_type": "markdown",
      "id": "fac9fac2",
      "metadata": {},
      "source": [
        "In this case, mean and median are the same because the data is symmetric and has no outliers.\n",
        "\n",
        "So here, the mean works perfectly to represent the “typical” value."
      ]
    },
    {
      "cell_type": "code",
      "execution_count": 8,
      "id": "5080437c",
      "metadata": {},
      "outputs": [
        {
          "name": "stdout",
          "output_type": "stream",
          "text": [
            "Mean: 26.9, Median: 3.0, Mode: 2\n"
          ]
        }
      ],
      "source": [
        "dataset = [1, 2, 2, 3, 50, 60, 70]\n",
        "\n",
        "mean = np.mean(dataset)  # Mean\n",
        "median = np.median(dataset)  # Median\n",
        "mode = stats.mode(dataset)[0]  # Mode\n",
        "\n",
        "print(f\"Mean: {round(mean,1)}, Median: {median}, Mode: {mode}\")\n"
      ]
    },
    {
      "cell_type": "markdown",
      "id": "41334059",
      "metadata": {},
      "source": [
        "The 50, 60, 70 are high outliers, so the median (which is 3) better represents the “typical” value."
      ]
    },
    {
      "cell_type": "markdown",
      "id": "a70a55a9",
      "metadata": {},
      "source": [
        "Here’s a quick visual tip:\n",
        "\n",
        "Scan the numbers for extreme highs or lows (outliers).\n",
        "\n",
        "If there are obvious outliers → median is usually better.\n",
        "\n",
        "If numbers are all close together → mean works fine.\n",
        "\n",
        "Check the spread\n",
        "\n",
        "Symmetric, evenly spread → mean ≈ median → mean is fine.\n",
        "\n",
        "Skewed (long tail on one side) → use median.\n",
        "\n",
        "💡 Memory trick:\n",
        "\n",
        "“Outliers pull the mean, median stays in the middle.”"
      ]
    },
    {
      "cell_type": "markdown",
      "id": "c4495b9e",
      "metadata": {},
      "source": [
        "Here’s your one-line cheat sheet:\n",
        "\n",
        "“If the data is symmetric and clean, use the mean; if it has outliers or is skewed, use the median.”\n",
        "\n",
        "💡 Quick memory trick:\n",
        "\n",
        "Mean = math average, sensitive to extremes\n",
        "\n",
        "Median = middle value, shields you from outliers\n",
        "\n",
        "You can literally glance at a dataset and decide which measure to trust in seconds!"
      ]
    },
    {
      "cell_type": "code",
      "execution_count": 9,
      "id": "70bdab84",
      "metadata": {},
      "outputs": [
        {
          "name": "stdout",
          "output_type": "stream",
          "text": [
            "Mean: 4.8, Median: 4.0, Mode: 2\n"
          ]
        }
      ],
      "source": [
        "dataset = [2, 3, 4, 5, 10]\n",
        "\n",
        "mean = np.mean(dataset)  # Mean\n",
        "median = np.median(dataset)  # Median\n",
        "mode = stats.mode(dataset)[0]  # Mode\n",
        "\n",
        "print(f\"Mean: {round(mean,1)}, Median: {median}, Mode: {mode}\")\n"
      ]
    },
    {
      "cell_type": "markdown",
      "id": "cc150c78",
      "metadata": {},
      "source": [
        "Outlier (10) inflates the mean compared to the median."
      ]
    },
    {
      "cell_type": "markdown",
      "id": "9b095868",
      "metadata": {},
      "source": [
        "### 1.2 Spread and Dispersion\n",
        "- **Range**: max − min\n",
        "- **Variance**: average squared deviation from the mean\n",
        "- **Standard deviation (SD)**: square root of variance\n"
      ]
    },
    {
      "cell_type": "markdown",
      "id": "e5fdb3ec",
      "metadata": {},
      "source": [
        "Imagine your dataset is the scores of students in a class.\n",
        "\n",
        "The mean is like the “class average.”\n",
        "\n",
        "The variance tells you how far students are scattered from that average.\n",
        "\n",
        "If most scores are close to the mean → small variance.\n",
        "\n",
        "If scores are all over the place → large variance.\n",
        "\n",
        "Standard deviation is just the variance in the same units as the data, so it’s easier to interpret.\n",
        "\n",
        "💡 Quick mental image:\n",
        "\n",
        "Think of the mean as the “center of a dartboard,” and the standard deviation as how far the darts are from the center."
      ]
    },
    {
      "cell_type": "code",
      "execution_count": 10,
      "id": "bdc7b21b",
      "metadata": {},
      "outputs": [
        {
          "name": "stdout",
          "output_type": "stream",
          "text": [
            "Mean: 5.0, Median: 5.0, Mode: 2\n",
            "Range: 6, Variance: 5.0, Standard Deviation: 2.24\n"
          ]
        }
      ],
      "source": [
        "dataset = [2, 4, 6, 8]\n",
        "\n",
        "mean = np.mean(dataset)  # Mean\n",
        "median = np.median(dataset)  # Median\n",
        "mode = stats.mode(dataset)[0]  # Mode\n",
        "range_val = max(dataset) - min(dataset)  # Range\n",
        "variance = np.var(dataset)  # Variance\n",
        "std_dev = np.std(dataset)  # Standard Deviation\n",
        "\n",
        "print(f\"Mean: {mean}, Median: {median}, Mode: {mode}\")\n",
        "print(f\"Range: {range_val}, Variance: {round(variance,2)}, Standard Deviation: {round(std_dev,2)}\")\n"
      ]
    },
    {
      "cell_type": "code",
      "execution_count": 11,
      "id": "8e3d48c0",
      "metadata": {},
      "outputs": [
        {
          "name": "stdout",
          "output_type": "stream",
          "text": [
            "Mean: 5.5, Median: 6.0, Mode: 7\n",
            "Range: 4, Variance: 2.75, Standard Deviation: 1.66\n"
          ]
        }
      ],
      "source": [
        "dataset = [3, 5, 7, 7]\n",
        "\n",
        "mean = np.mean(dataset)  # Mean\n",
        "median = np.median(dataset)  # Median\n",
        "mode = stats.mode(dataset)[0]  # Mode\n",
        "range_val = max(dataset) - min(dataset)  # Range\n",
        "variance = np.var(dataset)  # Variance\n",
        "std_dev = np.std(dataset)  # Standard Deviation\n",
        "\n",
        "print(f\"Mean: {mean}, Median: {median}, Mode: {mode}\")\n",
        "print(f\"Range: {range_val}, Variance: {round(variance,2)}, Standard Deviation: {round(std_dev,2)}\")\n"
      ]
    },
    {
      "cell_type": "markdown",
      "id": "7f85f07e",
      "metadata": {},
      "source": [
        "This tells us the numbers are fairly close to the mean, with a spread of about 1.66 units."
      ]
    },
    {
      "cell_type": "markdown",
      "id": "5dad962c",
      "metadata": {},
      "source": [
        "The formula of Variance (population)\n",
        "\n",
        "$$\\sigma^2 = \\frac{\\sum (x - \\mu)^2}{N}$$\n",
        "\n",
        "where:\n",
        "\n",
        "- $\\sigma^2$: Population variance\n",
        "- $x$: Each data point\n",
        "- $\\mu$: The population mean\n",
        "- $N$: Total number of Population"
      ]
    },
    {
      "cell_type": "markdown",
      "id": "3841460d",
      "metadata": {},
      "source": [
        "The formula of Variance (sample)\n",
        "\n",
        "$$s^2 = \\frac{\\sum (x - \\bar{x})^2}{n-1}$$\n",
        "\n",
        "where:\n",
        "\n",
        "- $s^2$: Sample variance\n",
        "- $x$: Each data point\n",
        "- $\\bar{x}$: The sample mean\n",
        "- $n - 1$: Total number of sample"
      ]
    },
    {
      "cell_type": "markdown",
      "id": "cbebfd1f",
      "metadata": {},
      "source": [
        "The formula of Standard Deviation (population)\n",
        "\n",
        "$$\\sigma= \\sqrt{\\frac{\\sum (x - \\mu)^2}{N}}$$\n",
        "\n",
        "where:\n",
        "\n",
        "- $\\sigma^2$: Population variance\n",
        "- $x$: Each data point\n",
        "- $\\mu$: The population mean\n",
        "- $N$: Total number of Population"
      ]
    },
    {
      "cell_type": "markdown",
      "id": "d8277e06",
      "metadata": {},
      "source": [
        "The formula of Standard Deviation (sample)\n",
        "\n",
        "$$s = \\sqrt{\\frac{\\sum (x - \\bar{x})^2}{n-1}}$$\n",
        "\n",
        "where:\n",
        "\n",
        "- $s^2$: Sample variance\n",
        "- $x$: Each data point\n",
        "- $\\bar{x}$: The sample mean\n",
        "- $n - 1$: Total number of sample"
      ]
    },
    {
      "cell_type": "markdown",
      "id": "9fb22e4f",
      "metadata": {},
      "source": [
        "Here’s a quick mental trick to estimate standard deviation:\n",
        "\n",
        "1. Find the mean.\n",
        "\n",
        "2. Look at the typical distance from the mean (just eyeball how far numbers usually are from the mean).\n",
        "\n",
        "3. Pick a number around that distance — it’ll be roughly the SD.\n",
        "\n",
        "Example: 3, 5, 7, 7\n",
        "\n",
        "- Mean = 5.5\n",
        "- Distances from mean: 2.5, 0.5, 1.5, 1.5\n",
        "- Most numbers are about 1–2 units from the mean → SD ≈ 1.5–1.7 ✅\n",
        "\n",
        "💡 Quick tip: if numbers are tightly packed → small SD, spread out → large SD."
      ]
    },
    {
      "cell_type": "markdown",
      "id": "07484c9a",
      "metadata": {},
      "source": [
        "So far you’ve learned:\n",
        "\n",
        "- Central tendency → “Where’s the center?” (mean, median, mode)\n",
        "- Spread → “How far are the values from the center?” (range, variance, SD)\n",
        "\n",
        "Here’s how they work together:\n",
        "\n",
        "Imagine two classes with test scores:\n",
        "\n",
        "- Class A: 70, 72, 68, 71, 69\n",
        "- Class B: 40, 100, 20, 90, 130\n",
        "\n",
        "Both might have a mean around 70, but…\n",
        "\n",
        "- Class A: scores are clustered tightly → small SD (consistent performance).\n",
        "- Class B: scores are all over the place → large SD (very inconsistent).\n",
        "\n",
        "👉 So the mean alone can be misleading. That’s why we always pair central tendency + spread to get the full picture."
      ]
    },
    {
      "cell_type": "markdown",
      "id": "4efa474a",
      "metadata": {},
      "source": [
        "If a dataset has mean = 50 and standard deviation = 1, the spread is small.\n",
        "If instead the SD was 20, that would mean the data is much more spread out — values could range widely around 50.\n",
        "\n",
        "👉 So here’s the key idea:\n",
        "\n",
        "Mean = center\n",
        "\n",
        "Standard deviation = typical distance from the center"
      ]
    },
    {
      "cell_type": "markdown",
      "id": "ca924504",
      "metadata": {},
      "source": [
        "Scenario 1:\n",
        "- Mean = 80, Standard Deviation = 2\n",
        "- Most values will be very close to 80, roughly between 78 and 82. That’s a tight cluster.\n",
        "\n",
        "Scenario 2:\n",
        "- Mean = 60, Standard Deviation = 15\n",
        "- With SD = 15, about 68% of values fall roughly within 60 ± 15 → 45 to 75 (one standard deviation).\n",
        "- About 95% fall within 60 ± 30 → 30 to 90 (two SDs).\n",
        "- About 99.7% fall within 60 ± 45 → 15 to 105 (three SDs)."
      ]
    },
    {
      "cell_type": "code",
      "execution_count": 12,
      "id": "c9f0b51d",
      "metadata": {},
      "outputs": [
        {
          "name": "stdout",
          "output_type": "stream",
          "text": [
            "Mean: 6.0, Median: 6.0, Mode: 3\n",
            "Range: 6, Variance: 5.0, Standard Deviation: 2.24\n"
          ]
        }
      ],
      "source": [
        "dataset = [3, 5, 7, 9]\n",
        "\n",
        "mean = np.mean(dataset)  # Mean\n",
        "median = np.median(dataset)  # Median\n",
        "mode = stats.mode(dataset)[0]  # Mode\n",
        "range_val = max(dataset) - min(dataset)  # Range\n",
        "variance = np.var(dataset)  # Variance\n",
        "std_dev = np.std(dataset)  # Standard Deviation\n",
        "\n",
        "print(f\"Mean: {mean}, Median: {median}, Mode: {mode}\")\n",
        "print(f\"Range: {range_val}, Variance: {round(variance,2)}, Standard Deviation: {round(std_dev,2)}\")\n"
      ]
    },
    {
      "cell_type": "code",
      "execution_count": 23,
      "id": "571bb73a",
      "metadata": {},
      "outputs": [
        {
          "data": {
            "image/png": "[encoded data removed]",
            "text/plain": [
              "<Figure size 1000x600 with 1 Axes>"
            ]
          },
          "metadata": {},
          "output_type": "display_data"
        },
        {
          "name": "stdout",
          "output_type": "stream",
          "text": [
            "±1σ cumulative: 68.268949%\n",
            "±2σ cumulative: 95.449974%\n",
            "±3σ cumulative: 99.730020%\n",
            "Bands: 0–1σ: 68.268949% | 1–2σ: 27.181024% | 2–3σ: 4.280047% | >3σ: 0.269980%\n"
          ]
        }
      ],
      "source": [
        "# Parameters\n",
        "mu, sigma = 0, 1\n",
        "x = np.linspace(-4, 4, 2000)\n",
        "y = norm.pdf(x, mu, sigma)\n",
        "\n",
        "fig, ax = plt.subplots(figsize=(10, 6))\n",
        "ax.plot(x, y, color='black', lw=1.5)\n",
        "\n",
        "# Masks for shading\n",
        "mask_0_1 = (np.abs(x) <= 1)\n",
        "mask_1_2 = (np.abs(x) > 1) & (np.abs(x) <= 2)\n",
        "mask_2_3 = (np.abs(x) > 2) & (np.abs(x) <= 3)\n",
        "\n",
        "# Fill shaded regions\n",
        "ax.fill_between(x, y, where=mask_0_1, facecolor='#ff9999', alpha=0.6, interpolate=True)\n",
        "ax.fill_between(x, y, where=mask_1_2, facecolor='#99ccff', alpha=0.6, interpolate=True)\n",
        "ax.fill_between(x, y, where=mask_2_3, facecolor='#99ff99', alpha=0.6, interpolate=True)\n",
        "\n",
        "# Compute exact percentages using CDF\n",
        "p1 = (2*norm.cdf(1) - 1) * 100\n",
        "p2 = (2*norm.cdf(2) - 1) * 100 - p1\n",
        "p3 = (2*norm.cdf(3) - 1) * 100 - (p1 + p2)\n",
        "p_out = 100 - (p1 + p2 + p3)\n",
        "\n",
        "# Annotate with arrows pointing to ranges\n",
        "ax.annotate(f'{p1:.2f}% within ±1σ',\n",
        "            xy=(0, norm.pdf(1)), xycoords='data',\n",
        "            xytext=(0, 0.3), textcoords='data',\n",
        "            ha='center', fontsize=10,\n",
        "            bbox=dict(facecolor='white', alpha=0.8, edgecolor='none'),\n",
        "            arrowprops=dict(arrowstyle=\"->\", color='black'))\n",
        "\n",
        "ax.annotate(f'{p2:.2f}% between 1σ–2σ',\n",
        "            xy=(1.5, norm.pdf(1.5)), xycoords='data',\n",
        "            xytext=(2.5, 0.25), textcoords='data',\n",
        "            ha='center', fontsize=10,\n",
        "            bbox=dict(facecolor='white', alpha=0.8, edgecolor='none'),\n",
        "            arrowprops=dict(arrowstyle=\"->\", color='black'))\n",
        "\n",
        "ax.annotate(f'{p3:.2f}% between 2σ–3σ',\n",
        "            xy=(2.5, norm.pdf(2.5)), xycoords='data',\n",
        "            xytext=(3.2, 0.12), textcoords='data',\n",
        "            ha='center', fontsize=10,\n",
        "            bbox=dict(facecolor='white', alpha=0.8, edgecolor='none'),\n",
        "            arrowprops=dict(arrowstyle=\"->\", color='black'))\n",
        "\n",
        "ax.annotate(f'{p_out:.3f}% outside ±3σ',\n",
        "            xy=(3.3, norm.pdf(3.3)), xycoords='data',\n",
        "            xytext=(2.5, 0.05), textcoords='data',\n",
        "            ha='center', fontsize=9,\n",
        "            bbox=dict(facecolor='white', alpha=0.8, edgecolor='none'),\n",
        "            arrowprops=dict(arrowstyle=\"->\", color='black'))\n",
        "\n",
        "# Format plot\n",
        "ax.legend(['Normal Distribution', '±1σ', '1σ–2σ', '2σ–3σ'], loc='upper right')\n",
        "ax.set_title('Normal Distribution with σ Ranges')\n",
        "ax.set_xlabel('Z-score')\n",
        "ax.set_ylabel('Probability Density')\n",
        "ax.set_xlim(-4, 4)\n",
        "ax.set_ylim(0, max(y)*1.3)\n",
        "ax.grid(True, linestyle='--', alpha=0.5)\n",
        "\n",
        "plt.show()\n",
        "\n",
        "# Print numeric results to console as well\n",
        "print(f'±1σ cumulative: {pct1:.6f}%')\n",
        "print(f'±2σ cumulative: {pct2:.6f}%')\n",
        "print(f'±3σ cumulative: {pct3:.6f}%')\n",
        "print(f'Bands: 0–1σ: {band_1:.6f}% | 1–2σ: {band_2:.6f}% | 2–3σ: {band_3:.6f}% | >3σ: {outside:.6f}%')"
      ]
    },
    {
      "cell_type": "markdown",
      "id": "a81b2db6",
      "metadata": {},
      "source": [
        "### 1.3 Percentiles & Normal Distribution"
      ]
    },
    {
      "cell_type": "markdown",
      "id": "2173efe2",
      "metadata": {},
      "source": [
        "#### Percentiles\n",
        "\n",
        "- A percentile tells you the position of a value relative to the dataset.\n",
        "- Example: If your exam score is at the 90th percentile, it means you scored better than 90% of students."
      ]
    },
    {
      "cell_type": "markdown",
      "id": "00132d19",
      "metadata": {},
      "source": [
        "#### Normal Distribution\n",
        "\n",
        "- Symmetrical bell-shaped curve\n",
        "- Symmetrical: mean = median = mode.\n",
        "- Most values are close to the mean, and fewer are far away.\n",
        "- **68–95–99.7 rule**:\n",
        "  - 68% of data within 1 SD of mean\n",
        "  - 95% within 2 SD\n",
        "  - 99.7% within 3 SD\n"
      ]
    },
    {
      "cell_type": "code",
      "execution_count": 24,
      "id": "3d6e0521",
      "metadata": {},
      "outputs": [
        {
          "name": "stdout",
          "output_type": "stream",
          "text": [
            "Mean: 14.166666666666666, Median: 7.5, Mode: 5\n",
            "Range: 45, Variance: 258.47, Standard Deviation: 16.08\n"
          ]
        }
      ],
      "source": [
        "dataset = [5, 6, 7, 8, 9, 50]\n",
        "\n",
        "mean = np.mean(dataset)  # Mean\n",
        "median = np.median(dataset)  # Median\n",
        "mode = stats.mode(dataset)[0]  # Mode\n",
        "range_val = max(dataset) - min(dataset)  # Range\n",
        "variance = np.var(dataset)  # Variance\n",
        "std_dev = np.std(dataset)  # Standard Deviation\n",
        "\n",
        "print(f\"Mean: {mean}, Median: {median}, Mode: {mode}\")\n",
        "print(f\"Range: {range_val}, Variance: {round(variance,2)}, Standard Deviation: {round(std_dev,2)}\")\n"
      ]
    },
    {
      "cell_type": "markdown",
      "id": "222168d8",
      "metadata": {},
      "source": [
        "- Median is best because 50 is an outlier.\n",
        "- SD is large because the values are spread out, especially due to that 50."
      ]
    },
    {
      "cell_type": "code",
      "execution_count": 27,
      "id": "201acd2f",
      "metadata": {},
      "outputs": [
        {
          "name": "stdout",
          "output_type": "stream",
          "text": [
            "Mean: 15.0, Median: 15.0, Mode: 12\n",
            "Range: 6, Variance: 4.0, Standard Deviation: 2.0\n"
          ]
        }
      ],
      "source": [
        "dataset = [12, 13, 14, 15, 16, 17, 18]\n",
        "\n",
        "mean = np.mean(dataset)  # Mean\n",
        "median = np.median(dataset)  # Median\n",
        "mode = stats.mode(dataset)[0]  # Mode\n",
        "range_val = max(dataset) - min(dataset)  # Range\n",
        "variance = np.var(dataset)  # Variance\n",
        "std_dev = np.std(dataset)  # Standard Deviation\n",
        "\n",
        "print(f\"Mean: {mean}, Median: {median}, Mode: {mode}\")\n",
        "print(f\"Range: {range_val}, Variance: {round(variance,2)}, Standard Deviation: {round(std_dev,2)}\")\n"
      ]
    },
    {
      "cell_type": "markdown",
      "id": "84c8f27d",
      "metadata": {},
      "source": [
        "- Mean works well because the data is symmetric and evenly spaced.\n",
        "- SD is small because the numbers are tightly clustered around the mean."
      ]
    },
    {
      "cell_type": "code",
      "execution_count": 28,
      "id": "3d3c4ae5",
      "metadata": {},
      "outputs": [
        {
          "name": "stdout",
          "output_type": "stream",
          "text": [
            "Mean: 3.0, Median: 3.0, Mode: 3\n",
            "Range: 0, Variance: 0.0, Standard Deviation: 0.0\n"
          ]
        }
      ],
      "source": [
        "dataset = [3, 3, 3, 3, 3, 3]\n",
        "\n",
        "mean = np.mean(dataset)  # Mean\n",
        "median = np.median(dataset)  # Median\n",
        "mode = stats.mode(dataset)[0]  # Mode\n",
        "range_val = max(dataset) - min(dataset)  # Range\n",
        "variance = np.var(dataset)  # Variance\n",
        "std_dev = np.std(dataset)  # Standard Deviation\n",
        "\n",
        "print(f\"Mean: {mean}, Median: {median}, Mode: {mode}\")\n",
        "print(f\"Range: {range_val}, Variance: {round(variance,2)}, Standard Deviation: {round(std_dev,2)}\")\n"
      ]
    },
    {
      "cell_type": "markdown",
      "id": "9d2c53bc",
      "metadata": {},
      "source": [
        "- All three (Mean, Median, Mode) are 3, since every number is the same\n",
        "- If all numbers are the same, the standard deviation = 0, because there is no spread at all.\n",
        "💡 Quick tip: SD = 0 → all values are identical."
      ]
    },
    {
      "cell_type": "code",
      "execution_count": 29,
      "id": "be908ca2",
      "metadata": {},
      "outputs": [
        {
          "name": "stdout",
          "output_type": "stream",
          "text": [
            "Mean: 14.4, Median: 6.0, Mode: 4\n",
            "Range: 46, Variance: 317.84, Standard Deviation: 17.83\n"
          ]
        }
      ],
      "source": [
        "dataset = [4, 5, 6, 7, 50]\n",
        "\n",
        "mean = np.mean(dataset)  # Mean\n",
        "median = np.median(dataset)  # Median\n",
        "mode = stats.mode(dataset)[0]  # Mode\n",
        "range_val = max(dataset) - min(dataset)  # Range\n",
        "variance = np.var(dataset)  # Variance\n",
        "std_dev = np.std(dataset)  # Standard Deviation\n",
        "\n",
        "print(f\"Mean: {mean}, Median: {median}, Mode: {mode}\")\n",
        "print(f\"Range: {range_val}, Variance: {round(variance,2)}, Standard Deviation: {round(std_dev,2)}\")\n"
      ]
    },
    {
      "cell_type": "markdown",
      "id": "36355ee1",
      "metadata": {},
      "source": [
        "- Median = 6, best represents the typical value.\n",
        "- SD is large because the 50 is an extreme outlier.\n",
        "- Ignoring the outlier, most values fall between 4 and 7, which is the “bulk” of the data."
      ]
    },
    {
      "cell_type": "markdown",
      "id": "c7532d12",
      "metadata": {},
      "source": [
        "Here’s your mental checklist for describing a dataset:\n",
        "\n",
        "1️⃣ Central Tendency (Where’s the center?)\n",
        "- Mean → use when data is symmetric, no outliers.\n",
        "- Median → use when data has outliers or is skewed.\n",
        "- Mode → use for most frequent value (especially categorical data).\n",
        "\n",
        "2️⃣ Spread (How scattered are values?)\n",
        "- Range → quick idea of total spread.\n",
        "- Variance → average squared deviation from mean.\n",
        "- Standard Deviation (SD) → square root of variance, easy to interpret.\n",
        "- Small SD → data clustered close to mean.\n",
        "- Large SD → data widely spread.\n",
        "\n",
        "3️⃣ Outliers\n",
        "- Outliers pull the mean but barely affect median.\n",
        "- Always check both mean and median if data looks skewed.\n",
        "\n",
        "4️⃣ Normal Distribution\n",
        "- Symmetric bell curve → mean = median = mode.\n",
        "- 68–95–99.7 rule:\n",
        "    - 68% within 1 SD\n",
        "    - 95% within 2 SDs\n",
        "    - 99.7% within 3 SDs\n",
        "\n",
        "5️⃣ Quick eyeball tips\n",
        "- Numbers packed together → small SD, mean works.\n",
        "- Numbers with extreme highs/lows → large SD, use median.\n",
        "- Eyeball distance from mean to estimate SD quickly.\n",
        "\n",
        "💡 Memory trick:\n",
        "“Center tells where, spread tells how far, outliers tell caution.”"
      ]
    },
    {
      "cell_type": "code",
      "execution_count": 30,
      "id": "94cfeee1",
      "metadata": {},
      "outputs": [
        {
          "data": {
            "image/png": "[encoded data removed]",
            "text/plain": [
              "<Figure size 640x480 with 1 Axes>"
            ]
          },
          "metadata": {},
          "output_type": "display_data"
        }
      ],
      "source": [
        "\n",
        "import numpy as np\n",
        "import matplotlib.pyplot as plt\n",
        "from scipy.stats import norm\n",
        "\n",
        "# Normal distribution parameters\n",
        "mu, sigma = 100, 15\n",
        "x = np.linspace(mu - 4*sigma, mu + 4*sigma, 1000)\n",
        "y = norm.pdf(x, mu, sigma)\n",
        "\n",
        "plt.plot(x, y, label='Normal Distribution')\n",
        "plt.axvline(mu, color='k', linestyle='--', label='Mean')\n",
        "plt.axvline(mu+sigma, color='g', linestyle='--', label='+1 SD')\n",
        "plt.axvline(mu-sigma, color='g', linestyle='--')\n",
        "plt.axvline(mu+2*sigma, color='r', linestyle='--', label='+2 SD')\n",
        "plt.axvline(mu-2*sigma, color='r', linestyle='--')\n",
        "plt.title('Normal Distribution with Mean and SDs')\n",
        "plt.legend()\n",
        "plt.show()\n"
      ]
    },
    {
      "cell_type": "markdown",
      "id": "2a7460d7",
      "metadata": {},
      "source": [
        "### 1.4 Z-scores"
      ]
    },
    {
      "cell_type": "markdown",
      "id": "985e0331",
      "metadata": {},
      "source": [
        "- Formula: $z = \\frac{(value − mean)}{SD}$\n",
        "- It tells you how many standard deviations a value is above or below the mean.\n",
        "- Positive z → above the mean\n",
        "- Negative z → below the mean\n",
        "\n",
        "Quick analogy:\n",
        "- Think of the mean as the “center of the dartboard.”\n",
        "- Z-score = how far, in dart lengths (SDs), a dart is from the center.\n",
        "\n",
        "Example:\n",
        "- Dataset mean = 50, SD = 10\n",
        "- Value = 70 → z = (70−50)/10 = 2 → 2 SDs above the mean"
      ]
    },
    {
      "cell_type": "markdown",
      "id": "492a3d39",
      "metadata": {},
      "source": [
        "Formula. of Z-Score\n",
        "$$z = \\frac{(x - \\mu)}{\\sigma}$$\n",
        "\n",
        "where:\n",
        "\n",
        "- $z$: Z-Score\n",
        "- $x$: Each data point\n",
        "- $\\mu$: The population mean\n",
        "- $\\sigma$: Standard deviation"
      ]
    },
    {
      "cell_type": "code",
      "execution_count": 31,
      "id": "5ea96cf4",
      "metadata": {},
      "outputs": [],
      "source": [
        "def z_score_df(df):\n",
        "    \"\"\"\n",
        "    Calculate z-scores for all numeric columns in a DataFrame.\n",
        "    \n",
        "    Args:\n",
        "        df (pd.DataFrame): Input DataFrame with numeric data\n",
        "        \n",
        "    Returns:\n",
        "        pd.DataFrame: DataFrame with z-scores\n",
        "    \"\"\"\n",
        "    mean = df.mean()\n",
        "    std = df.std()\n",
        "    z = (df - mean) / std\n",
        "    return z\n",
        "\n",
        "def z_score(value, mean, std):\n",
        "    \"\"\"\n",
        "    Calculate z-score for a single value.\n",
        "    \n",
        "    Args:\n",
        "        value (float): The value to calculate z-score for\n",
        "        mean (float): Mean of the distribution\n",
        "        std (float): Standard deviation of the distribution\n",
        "        \n",
        "    Returns:\n",
        "        float: Z-score\n",
        "    \"\"\"\n",
        "    z = (value - mean) / std\n",
        "    return z\n",
        "\n",
        "def interpret_z_score(z, tolerance=1e-10):\n",
        "    \"\"\"\n",
        "    Interpret a z-score with descriptive text and percentile.\n",
        "    \n",
        "    Args:\n",
        "        z (float): Z-score to interpret\n",
        "        tolerance (float): Tolerance for floating-point equality checks\n",
        "        \n",
        "    Returns:\n",
        "        str: Interpretation of the z-score\n",
        "    \"\"\"\n",
        "    percentile = norm.cdf(z) * 100\n",
        "    \n",
        "    def is_close(value, target):\n",
        "        \"\"\"Check if two floating-point numbers are close enough to be considered equal.\"\"\"\n",
        "        return abs(value - target) < tolerance\n",
        "    \n",
        "    # Determine the descriptive text based on z-score value\n",
        "    if z < -3:\n",
        "        desc = \"more than 3 standard deviations below the mean\"\n",
        "    elif is_close(z, -3):\n",
        "        desc = \"exactly 3 standard deviations below the mean\"\n",
        "    elif -3 < z < -2:\n",
        "        desc = \"between 2 and 3 standard deviations below the mean\"\n",
        "    elif is_close(z, -2):\n",
        "        desc = \"exactly 2 standard deviations below the mean\"\n",
        "    elif -2 < z < -1:\n",
        "        desc = \"between 1 and 2 standard deviations below the mean\"\n",
        "    elif is_close(z, -1):\n",
        "        desc = \"exactly 1 standard deviation below the mean\"\n",
        "    elif -1 < z < 0:\n",
        "        desc = \"between the mean and 1 standard deviation below the mean\"\n",
        "    elif is_close(z, 0):\n",
        "        desc = \"exactly at the mean\"\n",
        "    elif 0 < z < 1:\n",
        "        desc = \"between the mean and 1 standard deviation above the mean\"\n",
        "    elif is_close(z, 1):\n",
        "        desc = \"exactly 1 standard deviation above the mean\"\n",
        "    elif 1 < z < 2:\n",
        "        desc = \"between 1 and 2 standard deviations above the mean\"\n",
        "    elif is_close(z, 2):\n",
        "        desc = \"exactly 2 standard deviations above the mean\"\n",
        "    elif 2 < z < 3:\n",
        "        desc = \"between 2 and 3 standard deviations above the mean\"\n",
        "    elif is_close(z, 3):\n",
        "        desc = \"exactly 3 standard deviations above the mean\"\n",
        "    else:  # z > 3\n",
        "        desc = \"more than 3 standard deviations above the mean\"\n",
        "    \n",
        "    return f\"{z:.4f} is {desc}.\\nThis means that the value is in the {percentile:.2f} percentile.\"\n",
        "\n",
        "def interpret_z_score_simple(z):\n",
        "    \"\"\"\n",
        "    Simplified z-score interpretation focusing on key thresholds.\n",
        "    \n",
        "    Args:\n",
        "        z (float): Z-score to interpret\n",
        "        \n",
        "    Returns:\n",
        "        str: Simplified interpretation of the z-score\n",
        "    \"\"\"\n",
        "    percentile = norm.cdf(z) * 100\n",
        "    \n",
        "    abs_z = abs(z)\n",
        "    direction = \"below\" if z < 0 else \"above\" if z > 0 else \"at\"\n",
        "    \n",
        "    if abs_z > 3:\n",
        "        strength = \"extremely far\"\n",
        "    elif abs_z > 2:\n",
        "        strength = \"very far\"\n",
        "    elif abs_z > 1:\n",
        "        strength = \"moderately far\"\n",
        "    elif abs_z > 0.5:\n",
        "        strength = \"somewhat\"\n",
        "    else:\n",
        "        strength = \"very close to\"\n",
        "    \n",
        "    if z == 0:\n",
        "        return f\"Z-score: {z:.4f}\\nPosition: Exactly at the mean (50th percentile)\"\n",
        "    else:\n",
        "        return f\"Z-score: {z:.4f}\\nPosition: {strength.title()} {direction} the mean ({percentile:.2f} percentile)\"\n"
      ]
    },
    {
      "cell_type": "code",
      "execution_count": 32,
      "id": "1afa553c",
      "metadata": {},
      "outputs": [
        {
          "name": "stdout",
          "output_type": "stream",
          "text": [
            "Z-score of 85 is -1.0\n",
            "-1.0000 is exactly 1 standard deviation below the mean.\n",
            "This means that the value is in the 15.87 percentile.\n",
            "Z-score: -1.0000\n",
            "Position: Somewhat below the mean (15.87 percentile)\n"
          ]
        }
      ],
      "source": [
        "value = 85\n",
        "mean = 100\n",
        "SD = 15\n",
        "\n",
        "z_score_val = z_score(value, mean, SD)  \n",
        "\n",
        "print(f\"Z-score of {value} is {round(z_score_val,2)}\")\n",
        "print(interpret_z_score(round(z_score_val,2)))\n",
        "print(interpret_z_score_simple(round(z_score_val,2)))"
      ]
    },
    {
      "cell_type": "markdown",
      "id": "89334c2c",
      "metadata": {},
      "source": [
        "Now, let’s link this to the normal distribution:\n",
        "\n",
        "- About 68% of data lies between z = -1 and z = +1.\n",
        "- About 95% of data lies between z = -2 and z = +2."
      ]
    },
    {
      "cell_type": "markdown",
      "id": "21bec0ef",
      "metadata": {},
      "source": [
        "So now you know:\n",
        "\n",
        "- z = 0 → average\n",
        "- z = +2 or +3 → unusually high\n",
        "- z = -2 or -3 → unusually low"
      ]
    },
    {
      "cell_type": "markdown",
      "id": "ed718c6a",
      "metadata": {},
      "source": [
        "\n",
        "### Example 3:\n",
        "- Mean = 100, SD = 15\n",
        "- Value = 85 → z = (85−100)/15 = −1\n",
        "- Value = 95 → z = (95−80)/10 = +1.5\n",
        "- z = 0 means the score is equal to the mean.\n"
      ]
    },
    {
      "cell_type": "code",
      "execution_count": 9,
      "id": "91cdb983",
      "metadata": {},
      "outputs": [
        {
          "name": "stdout",
          "output_type": "stream",
          "text": [
            "Z-score of 95 is -0.33\n",
            "-0.3300 is between the mean and 1 standard deviation below the mean.\n",
            "This means that the value is in the 37.07 percentile.\n",
            "Z-score: -0.3300\n",
            "Position: Very Close To below the mean (37.07 percentile)\n"
          ]
        }
      ],
      "source": [
        "value = 95\n",
        "mean = 100\n",
        "SD = 15\n",
        "\n",
        "z_score_val = z_score(value, mean, SD)  \n",
        "\n",
        "print(f\"Z-score of {value} is {round(z_score_val,2)}\")\n",
        "print(interpret_z_score(round(z_score_val,2)))\n",
        "print(interpret_z_score_simple(round(z_score_val,2)))"
      ]
    },
    {
      "cell_type": "markdown",
      "id": "9915fc1e",
      "metadata": {},
      "source": [
        "### Example 4 (Heights):\n",
        "- Mean = 175 cm, SD = 10\n",
        "- Height = 190 → z = (190−175)/10 = +1.5\n",
        "- Height = 160 → z = (160−175)/10 = −1.5\n",
        "- z = +2 → Height = 195 cm\n"
      ]
    },
    {
      "cell_type": "code",
      "execution_count": 10,
      "id": "c0b83c8f",
      "metadata": {},
      "outputs": [
        {
          "name": "stdout",
          "output_type": "stream",
          "text": [
            "Z-score of 190 is 1.5\n",
            "1.5000 is between 1 and 2 standard deviations above the mean.\n",
            "This means that the value is in the 93.32 percentile.\n",
            "Z-score: 1.5000\n",
            "Position: Moderately Far above the mean (93.32 percentile)\n"
          ]
        }
      ],
      "source": [
        "value = 190\n",
        "mean = 175\n",
        "SD = 10\n",
        "\n",
        "z_score_val = z_score(value, mean, SD)  \n",
        "\n",
        "print(f\"Z-score of {value} is {round(z_score_val,2)}\")\n",
        "print(interpret_z_score(round(z_score_val,2)))\n",
        "print(interpret_z_score_simple(round(z_score_val,2)))"
      ]
    },
    {
      "cell_type": "markdown",
      "id": "de67b423",
      "metadata": {},
      "source": [
        "### 1.5 Z-score and Percentiles"
      ]
    },
    {
      "cell_type": "markdown",
      "id": "2907d52f",
      "metadata": {},
      "source": [
        "1️⃣ Percentiles recap\n",
        "\n",
        "- The percentile of a value tells you the percentage of data below it.\n",
        "- Example: 90th percentile → 90% of the data is below that value.\n",
        "\n",
        "2️⃣ Using z-scores to find percentiles\n",
        "\n",
        "- Z-scores can tell you where a value sits in a normal distribution.\n",
        "- Standard normal table (or mental approximation) tells you the cumulative probability:\n",
        "- z = +2 → ~97.5% below\n",
        "- z = +1 → ~84% below\n",
        "- z = 0 → 50% below\n",
        "- z = -1 → ~16% below\n",
        "- z = -2 → ~2.5% below\n",
        "\n",
        "Example:\n",
        "\n",
        "Mean = 100, SD = 15\n",
        "\n",
        "Value = 130 → z = (130−100)/15 = 2\n",
        "\n",
        "Cumulative probability ≈ 97.5% → 130 is higher than 97.5% of the population"
      ]
    },
    {
      "cell_type": "code",
      "execution_count": null,
      "id": "42fadc34",
      "metadata": {},
      "outputs": [],
      "source": []
    },
    {
      "cell_type": "markdown",
      "id": "b7275eae",
      "metadata": {},
      "source": [
        "In a normal distribution (bell curve):\n",
        "\n",
        "- The mean (center) is the 50th percentile.\n",
        "- About 68% of the data lies within 1 standard deviation of the mean (so: 34% below the mean to +1 SD, and 34% above the mean to –1 SD).\n",
        "- About 95% lies within 2 SD.\n",
        "- About 99.7% lies within 3 SD.\n",
        "\n",
        "So, if you are +1 SD above the mean, you’re at about the 84th percentile (because 50% + 34%).\n",
        "If you are +2 SD above the mean, you’re at about the 97.5th percentile (because 50% + 47.5%)."
      ]
    },
    {
      "cell_type": "markdown",
      "id": "88d3c0bd",
      "metadata": {},
      "source": [
        "### Example 5:\n",
        "- Mean = 100, SD = 15, Value = 130\n",
        "- z = (130−100)/15 = 2\n",
        "- Percentile ≈ 97.5%\n",
        "\n",
        "- Mean = 50, SD = 10, Value = 40 → z = −1 → ~16th percentile\n"
      ]
    },
    {
      "cell_type": "markdown",
      "id": "db817cc1",
      "metadata": {},
      "source": [
        "If someone is at the 90th percentile, that means:\n",
        "\n",
        "- They scored higher than 90% of people, and only 10% scored above them.\n",
        "- On the normal curve, the 90th percentile corresponds to a z-score ≈ +1.28.\n",
        "\n",
        "And like you said, +1.28 is more than 1 SD (1.0) but still less than 2 SD (2.0).\n",
        "\n",
        "At the 50th percentile = z-score of 0, because it’s right at the mean of the normal distribution."
      ]
    },
    {
      "cell_type": "markdown",
      "id": "991bfd36",
      "metadata": {},
      "source": [
        "So here’s a quick recap you can keep in your pocket:\n",
        "\n",
        "+1 SD → ~84th percentile\n",
        "\n",
        "+2 SD → ~97.5th percentile\n",
        "\n",
        "+3 SD → ~99.9th percentile"
      ]
    },
    {
      "cell_type": "markdown",
      "id": "ec83605b",
      "metadata": {},
      "source": [
        "So now you can see the symmetry:\n",
        "\n",
        "+1 SD → 84th percentile\n",
        "\n",
        "–1 SD → 16th percentile\n",
        "\n",
        "That’s because the normal curve is perfectly balanced around the mean."
      ]
    },
    {
      "cell_type": "markdown",
      "id": "e494d95c",
      "metadata": {},
      "source": [
        "| Z-score | Approx. Percentile | Interpretation |\n",
        "| ------- | ------------------ | -------------- |\n",
        "| –3      | 0.1%               | Extremely low  |\n",
        "| –2      | 2.5%               | Very low       |\n",
        "| –1      | 16%                | Below average  |\n",
        "| 0       | 50%                | Mean/median    |\n",
        "| +1      | 84%                | Above average  |\n",
        "| +2      | 97.5%              | Very high      |\n",
        "| +3      | 99.9%              | Extremely high |\n"
      ]
    },
    {
      "cell_type": "markdown",
      "id": "5c149a5d",
      "metadata": {},
      "source": [
        "Key points:\n",
        "\n",
        "1. Percentile = % of data below that z-score.\n",
        "2. Positive z → above mean, negative z → below mean.\n",
        "3. 1 SD above ≈ 84th percentile, 2 SD above ≈ 97.5th, etc.\n",
        "4. Symmetry: –z percentile = 100 – +z percentile."
      ]
    },
    {
      "cell_type": "markdown",
      "id": "f603fdfc",
      "metadata": {},
      "source": [
        "Here’s a simple mnemonic to remember the common z-score → percentile relationships:\n",
        "\n",
        "**“1, 2, 3 — 84, 98, 99.9”**\n",
        "\n",
        "- +1 SD → 84th percentile\n",
        "- +2 SD → 97.5–98th percentile\n",
        "- +3 SD → 99.9th percentile\n",
        "\n",
        "Then just remember the symmetry:\n",
        "\n",
        "- Negative z = 100 – positive z\n",
        "- 0 SD = 50th percentile\n",
        "\n",
        "Another way to think of it:\n",
        "\n",
        "**“50 is the middle, each SD adds roughly 34%, then 13%, then 2%”**\n",
        "\n",
        "- +1 SD: 50 + 34 = 84\n",
        "- +2 SD: 84 + 13 = 97\n",
        "- +3 SD: 97 + 2 = 99\n",
        "\n",
        "This helps you estimate percentiles quickly without a table."
      ]
    },
    {
      "cell_type": "code",
      "execution_count": 33,
      "id": "66128b59",
      "metadata": {},
      "outputs": [
        {
          "data": {
            "image/png": "[encoded data removed]",
            "text/plain": [
              "<Figure size 1000x600 with 1 Axes>"
            ]
          },
          "metadata": {},
          "output_type": "display_data"
        }
      ],
      "source": [
        "import numpy as np\n",
        "import matplotlib.pyplot as plt\n",
        "from scipy.stats import norm\n",
        "\n",
        "# Normal distribution parameters\n",
        "mu, sigma = 100, 15\n",
        "x = np.linspace(mu - 4*sigma, mu + 4*sigma, 1000)\n",
        "y = norm.pdf(x, mu, sigma)\n",
        "\n",
        "# Percentiles corresponding to SDs\n",
        "sd_percentiles = {\n",
        "    -3: norm.cdf(-3) * 100,\n",
        "    -2: norm.cdf(-2) * 100,\n",
        "    -1: norm.cdf(-1) * 100,\n",
        "    0: norm.cdf(0) * 100,\n",
        "    1: norm.cdf(1) * 100,\n",
        "    2: norm.cdf(2) * 100,\n",
        "    3: norm.cdf(3) * 100\n",
        "}\n",
        "\n",
        "plt.figure(figsize=(10, 6))\n",
        "plt.plot(x, y, label='Normal Distribution')\n",
        "\n",
        "# Stagger the vertical position of the labels\n",
        "y_positions = {\n",
        "    0: plt.ylim()[1] * 0.9,\n",
        "    1: plt.ylim()[1] * 0.85,\n",
        "    2: plt.ylim()[1] * 0.8,\n",
        "    3: plt.ylim()[1] * 0.75,\n",
        "    -1: plt.ylim()[1] * 0.85,\n",
        "    -2: plt.ylim()[1] * 0.8,\n",
        "    -3: plt.ylim()[1] * 0.75\n",
        "}\n",
        "\n",
        "# Add Standard Deviation lines and labels with corresponding percentiles\n",
        "for sd, percentile in sd_percentiles.items():\n",
        "    value = mu + sd * sigma\n",
        "    label = f'$\\\\mu$ + {sd}$\\sigma$ ({percentile:.1f}%)' if sd > 0 else f'$\\\\mu$ {sd}$\\sigma$ ({percentile:.1f}%)'\n",
        "    if sd == 0:\n",
        "        label = 'Mean (50%)'\n",
        "    \n",
        "    # Use different colors for different SDs\n",
        "    color = 'k' if sd == 0 else ('g' if abs(sd) == 1 else ('r' if abs(sd) == 2 else 'b'))\n",
        "    linestyle = '--'\n",
        "    plt.axvline(value, color=color, linestyle=linestyle)\n",
        "    \n",
        "    # Add percentile label at the staggered vertical position\n",
        "    plt.text(value, y_positions[sd], label, \n",
        "             horizontalalignment='center', color=color, fontsize=9)\n",
        "\n",
        "plt.title('Normal Distribution with SDs and Corresponding Percentiles')\n",
        "plt.xlabel('Value')\n",
        "plt.ylabel('Probability Density')\n",
        "plt.legend()\n",
        "plt.grid(True)\n",
        "plt.show()"
      ]
    },
    {
      "cell_type": "markdown",
      "id": "a6709668",
      "metadata": {},
      "source": [
        "1. Standard Deviation (SD, σ)\n",
        "\n",
        "- Measures the spread or dispersion of data around the mean.\n",
        "- Tells you, on average, how far data points are from the mean.\n",
        "- Unit is the same as the data (e.g., cm, kg, points).\n",
        "- Example: If mean height = 170 cm, SD = 10 cm → most people are within 160–180 cm.\n",
        "\n",
        "2. Z-score\n",
        "\n",
        "- Tells you how many SDs a particular value is from the mean.\n",
        "- Formula: $z = \\frac{x - \\mu}{\\sigma}$ \n",
        "- Unitless — it’s a relative position, not an absolute measure.\n",
        "- Example: Height = 190 cm → $z = \\frac{190 - 170}{10} = 2$ → 2 SD above the mean.\n",
        "\n",
        "✅ Key difference:\n",
        "\n",
        "- SD measures spread of the whole dataset.\n",
        "- Z-score measures position of a single value relative to that spread."
      ]
    },
    {
      "cell_type": "code",
      "execution_count": 13,
      "id": "29b79d4d",
      "metadata": {},
      "outputs": [
        {
          "data": {
            "image/png": "[encoded data removed]",
            "text/plain": [
              "<Figure size 640x480 with 1 Axes>"
            ]
          },
          "metadata": {},
          "output_type": "display_data"
        },
        {
          "name": "stdout",
          "output_type": "stream",
          "text": [
            "Percentile for z=1.28 is approximately 90.0%\n"
          ]
        }
      ],
      "source": [
        "import numpy as np\n",
        "import matplotlib.pyplot as plt\n",
        "from scipy.stats import norm\n",
        "\n",
        "# Parameters\n",
        "mu = 0       # mean\n",
        "sigma = 1    # standard deviation\n",
        "z = 1.28     # example z-score\n",
        "\n",
        "# x values\n",
        "x = np.linspace(mu - 4*sigma, mu + 4*sigma, 1000)\n",
        "y = norm.pdf(x, mu, sigma)\n",
        "\n",
        "# Plot normal distribution\n",
        "plt.plot(x, y, label='Normal Distribution')\n",
        "\n",
        "# Shade area below z-score\n",
        "x_fill = np.linspace(mu - 4*sigma, z*sigma, 1000)\n",
        "plt.fill_between(x_fill, 0, norm.pdf(x_fill, mu, sigma), color='skyblue', alpha=0.5, label=f'Area below z={z:.2f}')\n",
        "\n",
        "# Mark mean and z-score\n",
        "plt.axvline(mu, color='black', linestyle='--', label='Mean (0 SD)')\n",
        "plt.axvline(z*sigma, color='red', linestyle='--', label=f'z = {z:.2f}')\n",
        "\n",
        "# Add title and labels\n",
        "plt.title(f'Normal Distribution with z-score={z:.2f}')\n",
        "plt.xlabel('Value')\n",
        "plt.ylabel('Probability Density')\n",
        "plt.legend()\n",
        "\n",
        "# Show plot\n",
        "plt.show()\n",
        "\n",
        "# Calculate percentile\n",
        "percentile = norm.cdf(z) * 100\n",
        "print(f\"Percentile for z={z:.2f} is approximately {percentile:.1f}%\")\n"
      ]
    },
    {
      "cell_type": "markdown",
      "id": "5f82ad99",
      "metadata": {},
      "source": [
        "### Mixed Review Examples\n",
        "#### Example 6:\n",
        "Dataset: [50, 55, 60, 65, 150]\n",
        "- Central tendency: median (outlier present)\n",
        "- SD: large (due to outlier)\n",
        "- Range without outlier: 50–65 = 15\n",
        "- If mean=60, SD=10 → value=150 → z = (150−60)/10 = 9\n",
        "\n",
        "#### Example 7:\n",
        "Dataset: [8, 9, 10, 10, 11, 50]\n",
        "- Central tendency: median\n",
        "- SD: large (outlier)\n",
        "- Range without outlier: 8–11 = 3\n",
        "- If mean=16, SD=15, value=50 → z = (50−16)/15 ≈ 2.27\n"
      ]
    },
    {
      "cell_type": "markdown",
      "id": "5635408b",
      "metadata": {},
      "source": [
        "Recap:\n",
        "- Mean, median, mode – when to use each, especially with outliers.\n",
        "- Standard deviation (SD) – measures spread around the mean.\n",
        "- Z-scores – show how far a value is from the mean in SD units.\n",
        "- Percentiles – relate z-scores to the proportion of data below a value.\n",
        "\n",
        "Relationship between SD, z-score, and percentiles – including symmetry and common benchmarks (+1 SD ≈ 84th percentile, etc.)."
      ]
    },
    {
      "cell_type": "markdown",
      "id": "b612acc8",
      "metadata": {},
      "source": [
        "1. What z-score scaling does\n",
        "\n",
        "When we standardize features in ML using z-scores, we transform each value. So after scaling:\n",
        "- Each feature has mean = 0\n",
        "- Each feature has standard deviation = 1"
      ]
    },
    {
      "cell_type": "markdown",
      "id": "8e4c1e6f",
      "metadata": {},
      "source": [
        "2. Why this is useful\n",
        "\n",
        "In many ML algorithms:\n",
        "- Features with large scales (e.g., income in dollars vs. age in years) can dominate distance-based methods (kNN, clustering) or gradient updates.\n",
        "- Standardization makes features comparable: a change of “1 unit” means “1 SD” in any feature.\n",
        "- This keeps the model from being biased toward features just because they have larger numerical ranges."
      ]
    },
    {
      "cell_type": "markdown",
      "id": "5a27c4f3",
      "metadata": {},
      "source": [
        "3. Algorithms that benefit most\n",
        "- Distance-based models: kNN, k-means (distance is distorted if features aren’t scaled).\n",
        "- Gradient-based models: logistic regression, neural networks (converge faster if features are normalized).\n",
        "- PCA: relies on variance, so unscaled features can distort components.\n",
        "\n",
        "👉 Tree-based models (like random forest, gradient boosting) don’t need z-scores, because they split on thresholds rather than distances."
      ]
    },
    {
      "cell_type": "markdown",
      "id": "0353cd24",
      "metadata": {},
      "source": [
        "✅ So the connection:\n",
        "- In statistics, z-score tells us “how many SD away from mean a value is.”\n",
        "- In ML, we apply that to every feature, so they all live on the same scale (mean 0, SD 1)."
      ]
    },
    {
      "cell_type": "markdown",
      "id": "4c9e00f0",
      "metadata": {},
      "source": [
        "### Uses of Z-Score"
      ]
    },
    {
      "cell_type": "markdown",
      "id": "a54f525a",
      "metadata": {},
      "source": [
        "1. Detecting Outliers\n",
        "    - Values with $|z| > 3$ are often considered outliers.\n",
        "    - Example: In quality control, a machine part length with z=4 is way outside the usual process.\n",
        "\n",
        "2. Comparing Across Different Scales\n",
        "    - Example: A student scores 85/100 in Math (class mean = 70, SD = 10) and 90/100 in English (class mean = 80, SD = 5).\n",
        "    - Which score is better? Use z-scores to compare fairly across subjects.\n",
        "\n",
        "3. Probability & Percentiles\n",
        "    - Convert any raw score into a percentile using the normal distribution.\n",
        "    - Useful in standardized testing (SAT, GRE, IQ tests).\n",
        "\n",
        "4. Hypothesis Testing\n",
        "    - The z-test uses z-scores to see if a sample mean significantly differs from the population mean.\n",
        "    - Foundation for confidence intervals and p-values.\n",
        "\n",
        "5. Portfolio & Risk Management (Finance)\n",
        "    - Z-scores help detect unusual price movements.\n",
        "    - Example: A stock price with a z-score of –2 means it’s 2 SD below its historical mean — maybe a trading signal.\n",
        "\n",
        "👉 In short:\n",
        "- Statistics → percentiles, hypothesis tests, outliers.\n",
        "- Education/Testing → standardizing scores.\n",
        "- Machine Learning → feature scaling.\n",
        "- Finance/Quality Control → detecting anomalies."
      ]
    },
    {
      "cell_type": "markdown",
      "id": "e2ceed6a",
      "metadata": {},
      "source": []
    }
  ],
  "metadata": {
    "kernelspec": {
      "display_name": "stat",
      "language": "python",
      "name": "python3"
    },
    "language_info": {
      "codemirror_mode": {
        "name": "ipython",
        "version": 3
      },
      "file_extension": ".py",
      "mimetype": "text/x-python",
      "name": "python",
      "nbconvert_exporter": "python",
      "pygments_lexer": "ipython3",
      "version": "3.11.13"
    }
  },
  "nbformat": 4,
  "nbformat_minor": 5
}
