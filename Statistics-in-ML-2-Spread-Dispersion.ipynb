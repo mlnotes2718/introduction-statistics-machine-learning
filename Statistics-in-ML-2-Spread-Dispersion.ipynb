{
 "cells": [
  {
   "cell_type": "markdown",
   "id": "7126ccba",
   "metadata": {},
   "source": [
    "# Statistics in Machine Learning 2 - Spread and Dispersion"
   ]
  },
  {
   "cell_type": "markdown",
   "id": "dc63ae75",
   "metadata": {},
   "source": [
    "1. Why Dispersion Matters\n",
    "\n",
    "Think of dispersion as how “spread out” the data is.\n",
    "\n",
    "Two datasets can have the same mean but look very different:\n",
    "- Dataset A: 10, 10, 10, 10, 10 (mean = 10, no spread)\n",
    "- Dataset B: 5, 8, 10, 12, 15 (mean = 10, wide spread)\n",
    "\n",
    "Question for you: If both have the same mean, which dataset would be harder to predict the next value from — A or B?"
   ]
  },
  {
   "cell_type": "markdown",
   "id": "f635562b",
   "metadata": {},
   "source": [
    "2. Measures of Spread\n",
    "\n",
    "    a) Range\n",
    "\n",
    "        - Formula: max – min\n",
    "        - Example: In B above → 15 – 5 = 10\n",
    "        - Very sensitive to outliers (if one number jumps to 100, range = 95).\n",
    "    \n",
    "    b) Variance & Standard Deviation\n",
    "\n",
    "        - Variance = average squared distance from the mean.\n",
    "        - Standard deviation = square root of variance (brings units back to original).\n",
    "        - They use all data points, so they’re more “stable” than range but still affected by outliers.\n",
    "\n",
    "    c) Interquartile Range (IQR)\n",
    "\n",
    "        - IQR = Q3 – Q1 (spread of the middle 50% of data).\n",
    "        - Less sensitive to outliers, because it ignores the lowest 25% and highest 25%.\n",
    "        - Often used in boxplots and to define outliers.\n",
    "\n",
    "3. Outliers and Their Impact\n",
    "\n",
    "- Range: explodes if even one extreme value appears.\n",
    "- Variance & SD: pulled upward, because squaring exaggerates large deviations.\n",
    "- IQR: relatively unaffected — it only cares about the middle 50%."
   ]
  },
  {
   "cell_type": "markdown",
   "id": "85ce89a0",
   "metadata": {},
   "source": []
  }
 ],
 "metadata": {
  "kernelspec": {
   "display_name": "stat",
   "language": "python",
   "name": "python3"
  },
  "language_info": {
   "name": "python",
   "version": "3.11.13"
  }
 },
 "nbformat": 4,
 "nbformat_minor": 5
}
